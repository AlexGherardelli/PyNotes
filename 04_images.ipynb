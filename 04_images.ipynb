{
 "cells": [
  {
   "cell_type": "markdown",
   "metadata": {},
   "source": [
    "## TODO: Image manipulation\n",
    "\n",
    "- Creating an empty picture\n",
    "- Drawing a line\n",
    "- Drawing a rectangle on a picture\n",
    "- Cropping an image\n",
    "- Rotating, flipping and mirroring an image\n",
    "- Applying filters\n",
    "- Finding an image within an image\n"
   ]
  }
 ],
 "metadata": {
  "language_info": {
   "name": "python"
  },
  "orig_nbformat": 4
 },
 "nbformat": 4,
 "nbformat_minor": 2
}
