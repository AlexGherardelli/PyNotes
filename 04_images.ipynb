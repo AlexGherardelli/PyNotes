{
 "cells": [
  {
   "cell_type": "markdown",
   "metadata": {},
   "source": [
    "# Images\n",
    "\n",
    "## TODO\n",
    "- Creating an empty picture\n",
    "- Drawing a line\n",
    "- Drawing a rectangle on a picture\n",
    "- Cropping an image\n",
    "- Rotating, flipping and mirroring an image\n",
    "- Applying filters\n",
    "- Finding an image within an image\n"
   ]
  },
  {
   "cell_type": "code",
   "execution_count": 4,
   "metadata": {},
   "outputs": [],
   "source": [
    "import images"
   ]
  },
  {
   "cell_type": "markdown",
   "metadata": {},
   "source": [
    "## Create black picture\n",
    "\n",
    "This is basically equal to creating an n x m matrix filled with pixels of a certain color (e.g. black)"
   ]
  },
  {
   "cell_type": "code",
   "execution_count": 7,
   "metadata": {},
   "outputs": [],
   "source": [
    "black = (0, 0, 0)\n",
    "height, width = 100, 150\n",
    "\n",
    "img = [[black for i in range(width)] for j in range(height)]\n",
    "\n",
    "images.save(img, \"Images/black.png\")"
   ]
  },
  {
   "cell_type": "markdown",
   "metadata": {},
   "source": [
    "## Draw a pixel"
   ]
  },
  {
   "cell_type": "code",
   "execution_count": 21,
   "metadata": {},
   "outputs": [],
   "source": [
    "height, width = 10, 10\n",
    "img = [[black for i in range(width)] for j in range(height)]\n",
    "\n",
    "def draw_pixel(img, x, y, color):\n",
    "    \"\"\"Draw a pixel in position (x, y), checking it's within the boundaries\"\"\"\n",
    "    try:\n",
    "        img[y][x] = color\n",
    "    except IndexError:\n",
    "        pass\n",
    "    return  img\n",
    "\n",
    "def also_draw_pixel(img, x, y, color):\n",
    "    \"\"\"Draw a pixel in position (x, y), checking it's within the boundaries\"\"\"\n",
    "    height   = len(img)\n",
    "    width = len(img[0])\n",
    "    if  0 <= x < width and 0 <= y < height:\n",
    "        img[y][x] = color\n",
    "\n",
    "out = draw_pixel(img, 5, 5, (0, 255, 0))\n",
    "images.save(out, \"Images/green_pixel.png\")"
   ]
  },
  {
   "cell_type": "markdown",
   "metadata": {},
   "source": [
    "## Draw a line"
   ]
  },
  {
   "cell_type": "code",
   "execution_count": 31,
   "metadata": {},
   "outputs": [],
   "source": [
    "img = [[black for i in range(50)] for j in range(50)]\n",
    "width = range(len(img[0]))\n",
    "\n",
    "def horizonal_line(img, x_start, x_end, y, color):\n",
    "    for x in range(x_start, x_end+1):\n",
    "        draw_pixel(img, x, y, color)\n",
    "    return img\n",
    "\n",
    "out = horizonal_line(img, 20, 40, 25,(255, 0, 255))\n",
    "images.save(out, \"Images/horizontal_red_line.png\")"
   ]
  },
  {
   "cell_type": "code",
   "execution_count": 33,
   "metadata": {},
   "outputs": [],
   "source": [
    "img = [[black for i in range(50)] for j in range(50)]\n",
    "width = range(len(img[0]))\n",
    "height = range(len(img))\n",
    "\n",
    "\n",
    "def draw_v_line(img, x, y, y2, colore):\n",
    "    larghezza = len(img[0])\n",
    "    y_inizio = min(max(y,0), larghezza-1)\n",
    "    y_fine   = max(min(y2, larghezza-1),0)\n",
    "    for Y in range(y_inizio, y_fine):\n",
    "        img[Y][x] = colore\n",
    "\n",
    "# BUG!!!\n",
    "def vertical_line(img, x, start_y, end_y, color):\n",
    "    width = len(img[0])\n",
    "    start_pos = min(max(start_y,0), width - 1)\n",
    "    end_pos   = max(min(end_y, width - 1), 0)\n",
    "    for y in range(start_pos, end_pos):\n",
    "        img[y][x] = color\n",
    "    return img\n",
    "\n",
    "out = vertical_line(img, 20, 20, 20,(255, 0, 255))\n",
    "images.save(out, \"Images/vertical_red_line.png\")"
   ]
  },
  {
   "cell_type": "markdown",
   "metadata": {},
   "source": [
    "## Draw a rectangle"
   ]
  },
  {
   "cell_type": "code",
   "execution_count": 49,
   "metadata": {},
   "outputs": [],
   "source": [
    "\n",
    "\n",
    "def draw_rect(img, x_rect, y_rect, w_rect, h_rect, color):\n",
    "    for row in range(y_rect, y_rect + h_rect):\n",
    "        for col in range(x_rect, x_rect + w_rect):\n",
    "            try:\n",
    "                img[row][col] = color\n",
    "            except IndexError:\n",
    "                pass\n",
    "\n",
    "    return img\n",
    "\n",
    "img = [[black for i in range(50)] for j in range(50)]\n",
    "rect1 = {'x': 10, 'y': 5, 'w': 12, 'h': 7, 'color': (192, 35, 50)}\n",
    "out = draw_rect(img, rect1[\"x\"], rect1[\"y\"], rect1[\"w\"], rect1[\"h\"], rect1[\"color\"])\n",
    "images.save(out, \"Images/rectangle.png\")\n",
    "\n",
    "img = [[black for i in range(50)] for j in range(50)]\n",
    "rect2 = {'x': 10, 'y': 5, 'w': 12, 'h': 50, 'color': (130, 255, 6)}\n",
    "out = draw_rect(img, rect2[\"x\"], rect2[\"y\"], rect2[\"w\"], rect2[\"h\"], rect2[\"color\"])\n",
    "images.save(out, \"Images/oversize_rect.png\")"
   ]
  },
  {
   "cell_type": "markdown",
   "metadata": {},
   "source": [
    "## Perversioni\n",
    "\n",
    "### Scacchiera"
   ]
  },
  {
   "cell_type": "code",
   "execution_count": 51,
   "metadata": {},
   "outputs": [],
   "source": [
    "def chess_board(img, size, color1 = (0, 0, 0), color2 = (255, 255, 255)):\n",
    "    \"\"\"Draws a chess board of size s with two color (default:  black and white) \"\"\"\n",
    "    height = len(img)\n",
    "    width = len(img[0])\n",
    "\n",
    "    for x in range(0, width // size):\n",
    "        for y in range(0, height // size):\n",
    "            if (x + y) % 2:\n",
    "                color = color1\n",
    "            else:\n",
    "                color = color2\n",
    "            img = draw_rect(img, x * size, y * size, size, size, color)\n",
    "    return  img\n",
    "    \n",
    "img = [[black for i in range(50)] for j in range(50)]\n",
    "chess_board = chess_board(img, 10)\n",
    "images.save(chess_board, \"Images/chess_board.png\")"
   ]
  },
  {
   "cell_type": "markdown",
   "metadata": {},
   "source": [
    "### Ellissi"
   ]
  },
  {
   "cell_type": "code",
   "execution_count": 57,
   "metadata": {},
   "outputs": [],
   "source": [
    "from math import sqrt\n",
    "\n",
    "def draw_ellisse(img, x1, y1, x2, y2, D, colore):\n",
    "    larghezza = len(img[0])\n",
    "    altezza   = len(img)\n",
    "    for y in range(altezza):\n",
    "        for x in range(larghezza):\n",
    "            D1 = sqrt((x-x1)**2 + (y-y1)**2)    # distanza dal primo fuoco\n",
    "            D2 = sqrt((x-x2)**2 + (y-y2)**2)    # distanza dal secondo fuoco\n",
    "            if D1 + D2 < D:\n",
    "                img[y][x] = colore\n",
    "    return img \n",
    "\n",
    "img = [[black for i in range(300)] for j in range(300)]\n",
    "out = draw_ellisse(img, 50, 200, 90, 150, 100,  (0, 0, 255))   \n",
    "images.save(out, \"Images/ellissi.png\")\n"
   ]
  },
  {
   "cell_type": "markdown",
   "metadata": {},
   "source": [
    "### Cerchio\n",
    "\n",
    "Un cerchio è un ellisse con entrambi i fuochi nello stesso punto e soma delle distanze uguali a 2*raggio\n"
   ]
  },
  {
   "cell_type": "code",
   "execution_count": 63,
   "metadata": {},
   "outputs": [],
   "source": [
    "def draw_circle(img, x, y, r, colore):\n",
    "    return draw_ellisse(img, x, y, x, y, 2*r, colore)\n",
    "\n",
    "img = [[black for i in range(300)] for j in range(300)]\n",
    "out = draw_circle(img, 100, 100, 50, (255, 0, 255))   \n",
    "images.save(out, \"Images/circle.png\")\n"
   ]
  },
  {
   "cell_type": "markdown",
   "metadata": {},
   "source": [
    "### Diagonals"
   ]
  },
  {
   "cell_type": "code",
   "execution_count": null,
   "metadata": {},
   "outputs": [],
   "source": [
    "\n",
    "def draw_slope(img, x1, y1, x2, y2, colore):\n",
    "    dx = x2-x1\n",
    "    dy = y2-y1\n",
    "    # si varia lungo la direzione piÃ¹ lunga\n",
    "    # se dx > dy ci calcola la x per ciascuna x\n",
    "    if abs(dx) >= abs(dy):\n",
    "        m = dy/dx\n",
    "        for x in range(x1, x2+1):\n",
    "            y = int(round(m*x + y1))\n",
    "            img[y][x] = colore\n",
    "    # altrimenti per ciascuna y calcoliamo la x\n",
    "    else:\n",
    "        # TODO: scandiamo l'immagine per y crescenti\n",
    "        # semplicemente scambiando x e y\n",
    "        m1 = dy/dx\n",
    "        for y in range(y1, y2+1):\n",
    "            x = int(round(m1*y + x1))\n",
    "            img[y][x] = colore\n",
    "    # FIXME: e se dx == 0 oppure dy == 0? disegnamo una retta verticale o orizzontale\n",
    "    # FIXME: e se dx < 0 oppure dy < 0? scambiamo i due punti se:\n",
    "    #   dx < 0  e andiamo in orizzontale\n",
    "    #   dy < 0  e andiamo in verticale"
   ]
  }
 ],
 "metadata": {
  "kernelspec": {
   "display_name": "Python 3.8.10 ('uni')",
   "language": "python",
   "name": "python3"
  },
  "language_info": {
   "codemirror_mode": {
    "name": "ipython",
    "version": 3
   },
   "file_extension": ".py",
   "mimetype": "text/x-python",
   "name": "python",
   "nbconvert_exporter": "python",
   "pygments_lexer": "ipython3",
   "version": "3.8.10"
  },
  "orig_nbformat": 4,
  "vscode": {
   "interpreter": {
    "hash": "546b41e4b5ded73c14c091c0254eef6336db2e6f55324e735260470f348a8851"
   }
  }
 },
 "nbformat": 4,
 "nbformat_minor": 2
}
