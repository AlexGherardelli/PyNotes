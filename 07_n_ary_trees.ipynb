{
 "cells": [
  {
   "cell_type": "markdown",
   "metadata": {},
   "source": [
    "# N-Ary Trees \n",
    "N-ary trees are tree data structures that allow us to have up to n children nodes for each of the nodes. We need two pieces of information:\n",
    "- the value of the node\n",
    "- the list of its children nodes"
   ]
  },
  {
   "cell_type": "code",
   "execution_count": 5,
   "metadata": {},
   "outputs": [],
   "source": [
    "class Tree:\n",
    "    def __init__(self, value, children = None):\n",
    "        if children is None:\n",
    "            children = []\n",
    "        self.value = value\n",
    "        self.children = children\n",
    "    def __repr__(self, level=0):\n",
    "        \"\"\"String representation of a n-ary Tree\"\"\"\n",
    "        result = '|--'*level + f\"Tree({self.value},...)\"\n",
    "        for child in self.children:     # per ogni figlio\n",
    "            # aggiungo una riga con il figlio piÃ¹ indentato\n",
    "            result += '\\n' + child.__repr__(level+1)\n",
    "        return result\n"
   ]
  },
  {
   "cell_type": "code",
   "execution_count": 7,
   "metadata": {},
   "outputs": [
    {
     "name": "stdout",
     "output_type": "stream",
     "text": [
      "Tree(7,...)\n",
      "|--Tree(5,...)\n",
      "|--|--Tree(4,...)\n",
      "|--|--|--Tree(3,...)\n",
      "|--|--|--|--Tree(1,...)\n",
      "|--|--|--|--Tree(2,...)\n",
      "|--Tree(6,...)\n"
     ]
    }
   ],
   "source": [
    "# Sample tree\n",
    "n1 = Tree(1)\n",
    "n2 = Tree(2)\n",
    "n3 = Tree(3, [n1, n2])\n",
    "n4 = Tree(4, [n3]) \n",
    "n5 = Tree(5, [n4])\n",
    "n6 = Tree(6)\n",
    "tree = Tree(7, [n5, n6])\n",
    "\n",
    "print(tree)"
   ]
  },
  {
   "cell_type": "markdown",
   "metadata": {},
   "source": [
    "## Get information about tree\n",
    "\n",
    "### Get height"
   ]
  },
  {
   "cell_type": "code",
   "execution_count": 9,
   "metadata": {},
   "outputs": [
    {
     "name": "stdout",
     "output_type": "stream",
     "text": [
      "Sample n-ary tree is 5 levels deep\n"
     ]
    }
   ],
   "source": [
    "def get_height(tree):\n",
    "    if not tree.children:\n",
    "        return 1\n",
    "    return max([get_height(child) for child in tree.children]) + 1\n",
    "\n",
    "print(f\"Sample n-ary tree is {get_height(tree)} levels deep\")"
   ]
  },
  {
   "cell_type": "markdown",
   "metadata": {},
   "source": [
    "### Get diameter\n",
    "\n",
    "The diameter of the tree is defined as the **total number of nodes on the longest path between two end nodes**"
   ]
  },
  {
   "cell_type": "code",
   "execution_count": null,
   "metadata": {},
   "outputs": [],
   "source": [
    "def diameter(tree):\n",
    "    # Base case: tree has not children, so it's diameter is one\n",
    "    if not tree.children:\n",
    "        return 1\n",
    "    else:\n",
    "        # prima trovo il valore del diametro massimo di ciascuno dei sottoalberi\n",
    "        diam_max_figli = max([ diametro(figlio) for figlio in radice._figli ])\n",
    "        # poi calcolo la lunghezza del percorso se passasse per la radice\n",
    "        if len(radice._figli) == 1:             # se c'Ã¨ un solo figlio\n",
    "            # altezza dell'unico sottoalbero +1\n",
    "            diametro_per_radice = 1 + altezza(radice._figli[0])\n",
    "        else:\n",
    "            # se ci sono almeno 2 figli prendo le prime due altezze massime\n",
    "            altezze_ordinate = list(sorted([ altezza(figlio) for figlio in radice._figli ], reverse=True ))\n",
    "            prima, seconda = altezze_ordinate[:2]\n",
    "            diametro_per_radice = prima + seconda + 1       # e il percorso piÃ¹ lungo Ã¨ la loro somma +1\n",
    "        return max(diametro_per_radice, diam_max_figli)     # torno il massimo dei due casi (per la radice o solo nei sottoalberi)"
   ]
  },
  {
   "cell_type": "markdown",
   "metadata": {},
   "source": [
    "## Trasversal of a n-ary tree\n",
    "\n",
    "## Pre-order trasversal\n"
   ]
  },
  {
   "cell_type": "code",
   "execution_count": 54,
   "metadata": {},
   "outputs": [
    {
     "name": "stdout",
     "output_type": "stream",
     "text": [
      "Preorder traversal of sample tree: [7, 5, 4, 3, 1, 2, 6]\n"
     ]
    }
   ],
   "source": [
    "def preorder(tree, result = None):\n",
    "    if result is None:\n",
    "        result = []\n",
    "    if not root:\n",
    "        return result\n",
    "    result.append(tree.value)\n",
    "    # print(tree.value, end=\" \")\n",
    "    for child in tree.children:\n",
    "        preorder(child, result)\n",
    "    return result\n",
    "\n",
    "print(f\"Preorder traversal of sample tree: {preorder(tree)}\")"
   ]
  },
  {
   "cell_type": "markdown",
   "metadata": {},
   "source": [
    "## In-order trasversal\n"
   ]
  },
  {
   "cell_type": "code",
   "execution_count": 58,
   "metadata": {},
   "outputs": [
    {
     "name": "stdout",
     "output_type": "stream",
     "text": [
      "Preorder traversal of sample tree: [5, 4, 3, 1, 2, 5, 6, 6]\n"
     ]
    }
   ],
   "source": [
    "def inorder(tree, result = None):\n",
    "    if result is None:\n",
    "        result = []\n",
    "    if tree is None:\n",
    "        return result\n",
    "    # visit all children except last one\n",
    "    for child in len(tree.children) - 1:\n",
    "        preorder(child, result)\n",
    "    print(tree.data,end=\" \")\n",
    "    result.append(child.value)\n",
    "    return result\n",
    "\n",
    "print(f\"Preorder traversal of sample tree: {inorder(tree)}\")"
   ]
  }
 ],
 "metadata": {
  "kernelspec": {
   "display_name": "Python 3.8.12 ('base')",
   "language": "python",
   "name": "python3"
  },
  "language_info": {
   "codemirror_mode": {
    "name": "ipython",
    "version": 3
   },
   "file_extension": ".py",
   "mimetype": "text/x-python",
   "name": "python",
   "nbconvert_exporter": "python",
   "pygments_lexer": "ipython3",
   "version": "3.8.12"
  },
  "orig_nbformat": 4,
  "vscode": {
   "interpreter": {
    "hash": "4b871194bc19dac7c41cee6b8d23ffeafa9d012e1ad7aecad95db98b43f9f56c"
   }
  }
 },
 "nbformat": 4,
 "nbformat_minor": 2
}
