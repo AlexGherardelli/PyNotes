{
 "cells": [
  {
   "cell_type": "markdown",
   "metadata": {},
   "source": [
    "## Intermediate Python\n",
    "- Map, Filter, Reduce\n",
    "- all, any\n",
    "- zip and unzip\n",
    "- lambdas\n",
    "- Exceptions\n",
    "- Generators\n",
    "- Decorators\n",
    "- Mutations\n",
    "- args and kwargs\n",
    "- ternary operators,\n",
    "- One-liners\n",
    "\n",
    "# Snippets\n",
    "\n",
    "## TODO\n",
    "- Combinations and permutations\n",
    "- Tournament \n",
    "- Non uscire dal bordo di una lista con modulo\n",
    "\n",
    "## Flatten a list of lists (matrix)\n",
    "**Iteratively**\n",
    "```python\n",
    "\n",
    "```\n",
    "**Recursively**\n",
    "```python\n",
    "lst = [[1, 2, 3], [4, 5, 6], [5, 1, 2]]\n",
    "\n",
    "def flatten(lst):\n",
    "    if len(lst) == 0:\n",
    "        return lst\n",
    "    if type(lst[0]) == list:\n",
    "        return flatten(lst[0] + flatten(lst[1:]))\n",
    "\n",
    "    return  lst[:1] + flatten(lst[1:])\n",
    "```"
   ]
  }
 ],
 "metadata": {
  "language_info": {
   "name": "python"
  },
  "orig_nbformat": 4
 },
 "nbformat": 4,
 "nbformat_minor": 2
}
