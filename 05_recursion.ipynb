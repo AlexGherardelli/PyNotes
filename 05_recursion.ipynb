{
 "cells": [
  {
   "cell_type": "markdown",
   "metadata": {},
   "source": [
    "# Recursion\n",
    "\n",
    "## TODO\n",
    "- What is recursion: base case \n",
    "- Examples of recursion\n",
    "\n",
    "- String permutations\n",
    "- Tower of Hanoi\n",
    "- Palindrome\n",
    "- Substring generation"
   ]
  },
  {
   "cell_type": "markdown",
   "metadata": {},
   "source": [
    "## Definition of recursion\n",
    "A recursive function is a fuction that call itself. Everything is handled by a call stack. \n",
    "\n",
    "Every time a function call is made, a new frame object with information related to the call (such as local variables and a return address for the execution to move to when the function returns) is added to the call stack. The call stack, being a stack data structure, can be altered only by having data added to or removed from its “top.” This is called pushing to and popping from the stack, respectively. \n",
    "\n",
    "The call stack is handled by the program implicitly, so there is no call stack variable. Calling a function pushes a frame object to the call stack, and returning from a function pops a frame object from the call stack. Recursive functions have recursive cases, those in which a recursive call is made, and base cases, those where the function simply returns. If there is no base case or a bug prevents a base case from being run, the execution causes a stack overflow that crashes the program.\n",
    "\n",
    "Three features of a programming problem, when present,\n",
    "make it especially suitable to a recursive approach:\n",
    "- It involves a tree-like structure.\n",
    "- It involves backtracking.\n",
    "- It isn’t so deeply recursive as to potentially cause a stack overflow."
   ]
  },
  {
   "cell_type": "markdown",
   "metadata": {},
   "source": [
    "### Simple recursive applications"
   ]
  },
  {
   "cell_type": "code",
   "execution_count": 1,
   "metadata": {},
   "outputs": [
    {
     "name": "stdout",
     "output_type": "stream",
     "text": [
      "5\n"
     ]
    }
   ],
   "source": [
    "def fibonacci(n):\n",
    "    if n == 1:\n",
    "        return 1\n",
    "    elif n == 2:\n",
    "        return  1\n",
    "    else:\n",
    "        return fibonacci(n-1) + fibonacci(n-2)\n",
    "\n",
    "print(fibonacci(5))"
   ]
  },
  {
   "cell_type": "code",
   "execution_count": 8,
   "metadata": {},
   "outputs": [
    {
     "name": "stdout",
     "output_type": "stream",
     "text": [
      "The reverse of Alessandra is ardnasselA\n"
     ]
    }
   ],
   "source": [
    "def reverse(string):\n",
    "    # base case: string is empty\n",
    "    if string == \"\":\n",
    "        return \"\"\n",
    "    else:\n",
    "        return string[-1] + reverse(string[:-1])\n",
    "\n",
    "myname = \"Alessandra\"\n",
    "print(f\"The reverse of {myname} is {reverse(myname)}\")"
   ]
  },
  {
   "cell_type": "code",
   "execution_count": 14,
   "metadata": {},
   "outputs": [
    {
     "name": "stdout",
     "output_type": "stream",
     "text": [
      "is radar a palindrome? True\n"
     ]
    }
   ],
   "source": [
    "def is_palindrome(string):\n",
    "    # base case: the string is less than 1 character\n",
    "    if len(string) <= 1:\n",
    "        return True\n",
    "\n",
    "    if string[0] == string[-1]:\n",
    "        return is_palindrome(string[1:-1])\n",
    "\n",
    "    return False\n",
    "\n",
    "words = \"radar\"\n",
    "print(f\"is {word} a palindrome? {is_palindrome(word)}\")"
   ]
  },
  {
   "cell_type": "code",
   "execution_count": 15,
   "metadata": {},
   "outputs": [
    {
     "name": "stdout",
     "output_type": "stream",
     "text": [
      "Sum iteratively until 10 :  55\n",
      "Sum recursively until 10 :  55\n"
     ]
    }
   ],
   "source": [
    "def sum_numbers(n):\n",
    "    if n == 1:\n",
    "        return 1\n",
    "    else:\n",
    "        return n + sum_numbers(n - 1)\n",
    "\n",
    "\n",
    "def sum_numbers_iteratively(n):\n",
    "    result = 0\n",
    "    for i in range(n + 1):\n",
    "        result += i\n",
    "    return result\n",
    "\n",
    "\n",
    "n = 10\n",
    "print(f\"Sum iteratively until {n} :  {sum_numbers_iteratively(n)}\")\n",
    "\n",
    "print(f\"Sum recursively until {n} :  {sum_numbers(n)}\")"
   ]
  },
  {
   "cell_type": "code",
   "execution_count": 19,
   "metadata": {},
   "outputs": [
    {
     "name": "stdout",
     "output_type": "stream",
     "text": [
      "There are only 10 type of people in the world: those that understand binary and those who don't \n"
     ]
    }
   ],
   "source": [
    "def to_binary(n, result=\"\"):\n",
    "    # base case: n == 0\n",
    "    if n == 0:\n",
    "        return result\n",
    "\n",
    "    result = str(n % 2) + result\n",
    "    return to_binary(n // 2, result)\n",
    "\n",
    "print(f\"There are only {to_binary(2)} type of people in the world: those that understand binary and those who don't \")\n"
   ]
  },
  {
   "cell_type": "code",
   "execution_count": 29,
   "metadata": {},
   "outputs": [
    {
     "name": "stdout",
     "output_type": "stream",
     "text": [
      "There are 24 ways of rearranging 4 people at a table\n"
     ]
    }
   ],
   "source": [
    "def factorial(n):\n",
    "    \"\"\"\n",
    "    This is a terrible algorithm, because it does n function calls \n",
    "    \"\"\"\n",
    "    if n == 1:\n",
    "        return 1\n",
    "    else:\n",
    "        return n * factorial(n-1)\n",
    "\n",
    "n = 4\n",
    "print(f\"There are {factorial(n)} ways of rearranging {n} people at a table\")\n"
   ]
  },
  {
   "cell_type": "code",
   "execution_count": 32,
   "metadata": {},
   "outputs": [
    {
     "name": "stdout",
     "output_type": "stream",
     "text": [
      "1728\n"
     ]
    }
   ],
   "source": [
    "def exponent(a, n):\n",
    "    \"\"\"\n",
    "    This is a pretty good algorithm, because it cuts the problem in half each time\n",
    "    \"\"\"\n",
    "    if n == 1:\n",
    "        return a\n",
    "    elif n % 2 == 0:\n",
    "        result = exponent(a, n // 2)\n",
    "        return result * result\n",
    "    elif n % 2 == 1:\n",
    "        result = exponent(a, n // 2)\n",
    "        return result * result * a\n",
    "\n",
    "print(exponent(12, 3))"
   ]
  },
  {
   "cell_type": "markdown",
   "metadata": {},
   "source": [
    "## Permutations and combinations\n",
    "\n",
    "A **permutation** of a set is a specific ordering of all elements in the set. **Permutations** can be with repetition or without repetition. \n",
    "\n",
    "The number of permutations of n elements over k \"slots\" is given by formula \n",
    "$$\n",
    "P(k,n) = \\frac{n!}{(n - k)!}\n",
    "$$\n",
    "\n",
    "The number of permutations with repetition of n elements that are k elements long is $n^k$.\n",
    "\n",
    "A **combination** is a selection of elements of a set. More formally, a k-combination is a subset of k elements from a set. Unlike permutations, combinations don’t have an ordering.\n",
    "\n",
    "The term n choose k refers to the number of possible combinations (without repetition) of k elements that can be selected from a set of n elements.\n",
    "$$ \n",
    "C(n, k) = \\frac{n!}{(k! \\times (n – k)!}\n",
    "$$\n",
    "\n",
    "The term n multichoose k refers to the number of possible combinations with repetition of k elements that can be selected from a set of n elements.\n",
    "\n",
    "*Keep in mind that, both with and without repetition, you can think of permutation as a certain arrangement of all elements in a set, while a combination is an orderless selection of certain elements from a set.*"
   ]
  },
  {
   "cell_type": "code",
   "execution_count": 37,
   "metadata": {},
   "outputs": [
    {
     "name": "stdout",
     "output_type": "stream",
     "text": [
      "Permutations of \"ABCD\":\n",
      "..When chars = CD putting head C in all places in D\n",
      "..New permutation: CD\n",
      "..When chars = CD results are ['CD']\n",
      "..New permutation: DC\n",
      "..When chars = CD results are ['CD', 'DC']\n",
      ".When chars = BCD putting head B in all places in CD\n",
      ".When chars = BCD putting head B in all places in DC\n",
      ".New permutation: BDC\n",
      ".When chars = BCD results are ['BDC']\n",
      ".New permutation: DBC\n",
      ".When chars = BCD results are ['BDC', 'DBC']\n",
      ".New permutation: DCB\n",
      ".When chars = BCD results are ['BDC', 'DBC', 'DCB']\n",
      "When chars = ABCD putting head A in all places in BDC\n",
      "When chars = ABCD putting head A in all places in DBC\n",
      "When chars = ABCD putting head A in all places in DCB\n",
      "New permutation: ADCB\n",
      "When chars = ABCD results are ['ADCB']\n",
      "New permutation: DACB\n",
      "When chars = ABCD results are ['ADCB', 'DACB']\n",
      "New permutation: DCAB\n",
      "When chars = ABCD results are ['ADCB', 'DACB', 'DCAB']\n",
      "New permutation: DCBA\n",
      "When chars = ABCD results are ['ADCB', 'DACB', 'DCAB', 'DCBA']\n",
      "Results: ADCB,DACB,DCAB,DCBA\n"
     ]
    }
   ],
   "source": [
    "def getPerms(chars, indent = 0):\n",
    "    if len(chars) == 1:\n",
    "        return [chars]\n",
    "\n",
    "    permutations = []\n",
    "    head = chars[0] \n",
    "    tail = chars[1:]\n",
    "    tailPermutations = getPerms(tail, indent + 1)\n",
    "    for tailPerm in tailPermutations: \n",
    "        print('.' * indent + 'When chars =', chars, 'putting head', head, 'in all places in',\n",
    "    tailPerm)\n",
    "    for i in range(len(tailPerm) + 1): \n",
    "        newPerm = tailPerm[0:i] + head + tailPerm[i:]\n",
    "        print('.' * indent + 'New permutation:', newPerm)\n",
    "        permutations.append(newPerm)\n",
    "        print('.' * indent + 'When chars =', chars, 'results are', permutations)\n",
    "    return permutations\n",
    "print('Permutations of \"ABCD\":')\n",
    "print('Results:', ','.join(getPerms('ABCD')))"
   ]
  }
 ],
 "metadata": {
  "kernelspec": {
   "display_name": "Python 3.9.12 ('base')",
   "language": "python",
   "name": "python3"
  },
  "language_info": {
   "codemirror_mode": {
    "name": "ipython",
    "version": 3
   },
   "file_extension": ".py",
   "mimetype": "text/x-python",
   "name": "python",
   "nbconvert_exporter": "python",
   "pygments_lexer": "ipython3",
   "version": "3.9.12"
  },
  "orig_nbformat": 4,
  "vscode": {
   "interpreter": {
    "hash": "8bf32a8df28c9a723f371e694d7400cec10cdd60e20f7cbe5a62ff7f77fe944c"
   }
  }
 },
 "nbformat": 4,
 "nbformat_minor": 2
}
