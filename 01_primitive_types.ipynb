{
 "cells": [
  {
   "cell_type": "markdown",
   "metadata": {},
   "source": [
    "# Lists\n",
    "Lists are mutable collections of items. \n",
    "\n",
    "\n",
    "## List manipulation\n"
   ]
  },
  {
   "cell_type": "code",
   "execution_count": null,
   "metadata": {},
   "outputs": [],
   "source": [
    "# Accessed through index\n",
    "lst = [\"apple\", \"banana\", \"tomato\"]\n",
    "lst[0] # get first item: apple\n",
    "lst[-1] #get last item: tomato"
   ]
  },
  {
   "cell_type": "code",
   "execution_count": 1,
   "metadata": {},
   "outputs": [
    {
     "data": {
      "text/plain": [
       "['apple']"
      ]
     },
     "execution_count": 1,
     "metadata": {},
     "output_type": "execute_result"
    }
   ],
   "source": [
    "# Can be sliced with [:] operator\n",
    "\n",
    "lst = [\"apple\", \"banana\", \"tomato\"]\n",
    "lst[1:] # get all list from second item \"banana\" onwards\n",
    "lst[:1] # get only first time (from 0 to 1 index, not includding it)"
   ]
  },
  {
   "cell_type": "code",
   "execution_count": null,
   "metadata": {},
   "outputs": [],
   "source": [
    "The ```[:]``` operator is very useful to reverse a list**\n",
    "lst = [\"apple\", \"banana\", \"tomato\"]\n",
    "lst[::-1] # reverse list [\"tomato\", \"banana\", \"apple]\n",
    "\n",
    "lst1 = lst.reverse() # Method 2"
   ]
  },
  {
   "cell_type": "markdown",
   "metadata": {},
   "source": [
    "## List concatenation\n",
    "Two lists can be concatenated using the + operator or the extend method"
   ]
  },
  {
   "cell_type": "code",
   "execution_count": null,
   "metadata": {},
   "outputs": [],
   "source": [
    "fruits = [\"apple\", \"banana\", \"peach\"]\n",
    "vegetables = [\"salad\", \"zucchini\", \"cucumber\"]\n",
    "\n",
    "# Method 1: create new list with two list concatenated\n",
    "fruits_and_vegetables = fruits + vegetables \n",
    "\n",
    "# Methods 2: adds second list to first\n",
    "fruits.extend(vegetables)"
   ]
  },
  {
   "cell_type": "markdown",
   "metadata": {},
   "source": [
    "## Copying a list\n",
    "### Shallow copy\n",
    "A shallow copy means constructing a new collection object and then populating it with references to the child objects found in the original."
   ]
  },
  {
   "cell_type": "code",
   "execution_count": null,
   "metadata": {},
   "outputs": [],
   "source": [
    "lst = [1, 2, 3]\n",
    "# Method 1: Using slicing operator\n",
    "lst_copy = lst[::]\n",
    "# Method 2: Using the copy method\n",
    "lst_copy = lst.copy()\n",
    "\n",
    "# Method 3: Create another list\n",
    "lst_copy = list(lst)"
   ]
  },
  {
   "cell_type": "markdown",
   "metadata": {},
   "source": [
    "**NB:** Shallow copies are just one level deep. They work fine with list of one levels, but since they contain pointers to the original objects, they will start behaving \"weirdly\" for nested lists\n"
   ]
  },
  {
   "cell_type": "code",
   "execution_count": 13,
   "metadata": {},
   "outputs": [
    {
     "name": "stdout",
     "output_type": "stream",
     "text": [
      "ORIGINAL: lst: [[1, 2, 3], [4, 5, 6]] \n",
      "lst2: [[1, 2, 3], [4, 5, 6]]\n",
      "\n",
      "MODIFIED: lst: [[1, ['a', 'b'], 3], [4, 5, 6]] \n",
      "lst2: [[1, ['a', 'b'], 3], [4, 5, 6]]\n"
     ]
    }
   ],
   "source": [
    "lst = [[1, 2, 3], [4, 5, 6]]\n",
    "lst2 = lst[::] # Shallow copy\n",
    "print(f\"ORIGINAL: lst: {lst} \\nlst2: {lst2}\\n\")\n",
    "\n",
    "# Modifies original list\n",
    "lst[0][1] = [\"a\", \"b\"]\n",
    "\n",
    "print(f\"MODIFIED: lst: {lst} \\nlst2: {lst2}\")"
   ]
  },
  {
   "cell_type": "markdown",
   "metadata": {},
   "source": [
    "### Deep copy\n",
    "The solution to the above problem is a deep copy. A deep copy makes the copying process recursive. It means first constructing a new collection object and then recursively populating it with copies of the child objects found in the original. Copying an object this way walks the whole object tree to create a fully independent clone of the original object and all of its children.\n"
   ]
  },
  {
   "cell_type": "code",
   "execution_count": 16,
   "metadata": {},
   "outputs": [
    {
     "name": "stdout",
     "output_type": "stream",
     "text": [
      "ORIGINAL: lst: [[1, 2, 3], [4, 5, 6]] \n",
      "lst2: [[[1, 2, 3], [4, 5, 6]]]\n",
      "\n",
      "MODIFIED lst: [[100, 2, 3], [4, 5, 6]] \n",
      "lst2: [[[1, 2, 3], [4, 5, 6]]]\n"
     ]
    }
   ],
   "source": [
    "# Method 1: Using deepcopy()\n",
    "\n",
    "import copy\n",
    "\n",
    "lst = [[1, 2, 3], [4, 5, 6]]\n",
    "lst2 = copy.deepcopy(lst)\n",
    "\n",
    "# Method 2: Using list comprehension\n",
    "lst = [[1, 2, 3], [4, 5, 6]]\n",
    "lst2 = [ [e[::] for e in lst]]\n",
    "print(f\"ORIGINAL: lst: {lst} \\nlst2: {lst2}\\n\")\n",
    "\n",
    "lst[0][0] = 100\n",
    "print(f\"MODIFIED lst: {lst} \\nlst2: {lst2}\")\n"
   ]
  },
  {
   "cell_type": "markdown",
   "metadata": {},
   "source": [
    "## Remove items from lists\n",
    "Items from a list can be removed using del, pop()or remove(). Del is a keyword, while pop and remove are built-in methods."
   ]
  },
  {
   "cell_type": "code",
   "execution_count": 8,
   "metadata": {},
   "outputs": [
    {
     "name": "stdout",
     "output_type": "stream",
     "text": [
      "['apple', 'banana', 'orange']\n",
      "List after lst[0] being removed: ['banana', 'orange']\n"
     ]
    }
   ],
   "source": [
    "# Method 1: Using del \n",
    "lst = [\"apple\", \"banana\", \"orange\"]\n",
    "print(lst)\n",
    "\n",
    "del lst[0] # removes item at n-th index (in this case, apple at index 0)\n",
    "print(f\"List after lst[0] being removed: {lst}\")\n",
    "del lst # removes entire list"
   ]
  },
  {
   "cell_type": "code",
   "execution_count": 11,
   "metadata": {},
   "outputs": [
    {
     "name": "stdout",
     "output_type": "stream",
     "text": [
      "['apple', 'banana', 'orange']\n",
      "Lst after first element is popped: ['banana', 'orange']\n",
      "Lst after another element is removed: ['orange']\n"
     ]
    }
   ],
   "source": [
    "lst = [\"apple\", \"banana\", \"orange\"]\n",
    "print(lst)\n",
    "\n",
    "lst.pop(0) # removes item at n-th index (in this case, apple at index 0)\n",
    "print(f\"Lst after first element is popped: {lst}\")\n",
    "\n",
    "lst.remove(\"banana\") # remove item called by its value\n",
    "print(f\"Lst after another element is removed: {lst}\")\n"
   ]
  },
  {
   "cell_type": "markdown",
   "metadata": {},
   "source": [
    "List comprehension\n",
    "List comprehensions are a compact syntactic construct available in Python to create and manipulate lists. It is more time-efficient and space-efficient than using loops and requires less lines of code, making it ultimately more readable.\n",
    "\n",
    "**Basic syntax** \n",
    "```\n",
    "[expression for item in list if condition]\n",
    "```"
   ]
  },
  {
   "cell_type": "markdown",
   "metadata": {},
   "source": [
    "# Dictionaries\n",
    "Dictionaries are  **mutable** data structures comprised of key-value pairs. They are good to quickly accessing data by its key. From Python 3.7 onward, the order of the dictionary is preserved.\n",
    "\n",
    "## Creating dictionaries"
   ]
  },
  {
   "cell_type": "code",
   "execution_count": null,
   "metadata": {},
   "outputs": [],
   "source": [
    "#  Method 1\n",
    "d = dict(dog = 10, cat = 5, guinea_pig = 3) \n",
    "\n",
    "# Method 2\n",
    "d = {\"dog\": 10, \"cat\": 5, \"guinea_pig\" : 3 }\n",
    "\n",
    "# Method 3\n",
    "d = {}\n",
    "animals = [\"dog\", \"cat\", \"guinea_pig\"]\n",
    "values = [10, 5, 3]\n",
    "for k, v in zip(animals, values):\n",
    "    d[k] = v"
   ]
  },
  {
   "cell_type": "markdown",
   "metadata": {},
   "source": [
    "\n",
    "###  Dictionary shorthands\n",
    "\n",
    "Similarly to list comprehensions, it is possible to create a new dictionary using dictionary comprehension, which is a shorthand for the methods illustrated above. \n",
    "\n",
    "Dictionary comprehension is a method for transforming one dictionary into another dictionary. During this transformation, items within the original dictionary can be conditionally included in the new dictionary and each item can be transformed as needed."
   ]
  },
  {
   "cell_type": "code",
   "execution_count": null,
   "metadata": {},
   "outputs": [],
   "source": [
    "dict1 = {'a': 1, 'b': 2, 'c': 3, 'd': 4}\n",
    "\n",
    "# Returns a new dictionary with all values from dict1 multiplied by 2\n",
    "dict2 = {key: value * 2 for key, value in dict1.items()}\n",
    "\n",
    "print(dict2) # {'a': 1, 'b': 4, 'c': 6, 'd': 8}"
   ]
  },
  {
   "cell_type": "markdown",
   "metadata": {},
   "source": [
    "## Getting values from dictionaries\n",
    "\n",
    "### Get keys"
   ]
  },
  {
   "cell_type": "code",
   "execution_count": 12,
   "metadata": {},
   "outputs": [
    {
     "name": "stdout",
     "output_type": "stream",
     "text": [
      "dog\n",
      "cat\n",
      "guinea_pig\n"
     ]
    }
   ],
   "source": [
    "d = {\"dog\": 10, \"cat\": 5, \"guinea_pig\" : 3 }\n",
    "\n",
    "# get dictionary keys in dict_keys type\n",
    "a = d.keys()\n",
    "type(a) # dict_keys\n",
    "\n",
    "# iterate through keys\n",
    "for k in d.keys():\n",
    "    print(k) # dog cat guinea_pig\n",
    "\n",
    "# transform dict keys in list\n",
    "b = list(d.keys()) # ['dog', 'cat', 'guinea_pig']"
   ]
  },
  {
   "cell_type": "markdown",
   "metadata": {},
   "source": [
    "### Get values"
   ]
  },
  {
   "cell_type": "code",
   "execution_count": 13,
   "metadata": {},
   "outputs": [
    {
     "name": "stdout",
     "output_type": "stream",
     "text": [
      "10\n",
      "5\n",
      "3\n"
     ]
    }
   ],
   "source": [
    "d = {\"dog\": 10, \"cat\": 5, \"guinea_pig\" : 3 }\n",
    "\n",
    "# get dictionary values in dict_value type\n",
    "a = d.values()\n",
    "type(a) # dict_values\n",
    "\n",
    "# iterate through values\n",
    "for v in d.values():\n",
    "    print(v) # 10 5 3 \n",
    "\n",
    "# transform dict value in list\n",
    "b = list(d.values()) # [10, 5, 3]"
   ]
  },
  {
   "cell_type": "markdown",
   "metadata": {},
   "source": [
    "### Get item by its key\n"
   ]
  },
  {
   "cell_type": "code",
   "execution_count": 14,
   "metadata": {},
   "outputs": [
    {
     "data": {
      "text/plain": [
       "10"
      ]
     },
     "execution_count": 14,
     "metadata": {},
     "output_type": "execute_result"
    }
   ],
   "source": [
    "\n",
    "d.get('dog') # 10\n"
   ]
  },
  {
   "cell_type": "markdown",
   "metadata": {},
   "source": [
    "### Get key:value pairs\n"
   ]
  },
  {
   "cell_type": "code",
   "execution_count": null,
   "metadata": {},
   "outputs": [],
   "source": [
    "c = d.items() # dict_items([('dog', 10), ('cat', 5), ('guinea_pig', 3)])\n",
    "type(c) # dict_items"
   ]
  },
  {
   "cell_type": "markdown",
   "metadata": {},
   "source": [
    "## Looping over a dictionary\n"
   ]
  },
  {
   "cell_type": "code",
   "execution_count": null,
   "metadata": {},
   "outputs": [],
   "source": [
    "\n",
    "# Get the key:value pairs\n",
    "for k, v in d.items():\n",
    "    print(k, v) \n",
    "# dog 10\n",
    "# cat 5\n",
    "# guinea_pig 3\n",
    "\n",
    "# Get the index of the item and its keys\n",
    "for i, v in enumerate(d):\n",
    "    print(i, v)\n",
    "    # 0 dog\n",
    "    # 1 cat\n",
    "    # 2 guinea_pig"
   ]
  },
  {
   "cell_type": "markdown",
   "metadata": {},
   "source": [
    "## Search into a dictionary"
   ]
  },
  {
   "cell_type": "code",
   "execution_count": null,
   "metadata": {},
   "outputs": [],
   "source": [
    "db = [\n",
    "    {'name': 'Paperino','surname':'Paolino',      'tel':'555-1313',  'address': 'via dei Peri 113',          'city ': 'Paperopoli'},\n",
    "    {'name': 'Gastone', 'surname':'Paperone',     'tel':'555-1717',  'address': 'via dei Baobab 42',         'city ': 'Paperopoli'},\n",
    "    {'name': 'Paperon', 'surname':\"de' Paperoni\", 'tel':'555-99999', 'address': 'colle Papero 1',            'city ': 'Paperopoli'},\n",
    "    {'name': 'Archimede','surname':'Pitagorico',  'tel':'555-11235', 'address': 'colle degli Inventori 1',   'city ': 'Paperopoli'},\n",
    "    {'name': 'Pietro',  'surname':'Gambadilegno', 'tel':'555-66666', 'address': 'via dei Ladri 13',          'city ': 'Topolinia'},\n",
    "    {'name': 'Trudy',   'surname':'Gambadilegno', 'tel':'555-66666', 'address': 'via dei Ladri 13',          'city ': 'Topolinia'},\n",
    "    {'name': 'Topolino','surname':'Mouse',        'tel':'555-12345', 'address': 'via degli Investigatori 1', 'city ': 'Topolinia'},\n",
    "    {'name': 'Minnie',  'surname':'Mouse',        'tel':'555-54321', 'address': 'via di M.me Curie 1',       'city ': 'Topolinia'},\n",
    "    {'name': 'Pippo',   'surname':\"de' Pippis\",   'tel':'555-33333', 'address': 'via dei Pioppi 1',          'city ': 'Topolinia'},\n",
    "    ]\n",
    "\n",
    "# per cercare su piÃ¹ colonne\n",
    "def cerca_multicolonna_lineare(ag, query):\n",
    "    # IN : agenda, query: coppie colonna/valore (con un dizionario)\n",
    "    # OUT: lista dei record che soddisfano tutte le condizioni\n",
    "    # all'inizio l'elenco di record risultante Ã¨ []\n",
    "    risultato = []\n",
    "    # scandiamo l'agenda e per tutti i record\n",
    "    for record in ag:\n",
    "        # se corrispondono alla query\n",
    "        if corrisponde_alla_query(record, query):\n",
    "            # aggiungo il record all'output\n",
    "            risultato.append(record)\n",
    "    # torno l'elenco di record\n",
    "    return risultato\n"
   ]
  },
  {
   "cell_type": "markdown",
   "metadata": {},
   "source": [
    "## Sorting Dictionaries\n",
    "### Sort a list of dictionaries by value\n"
   ]
  },
  {
   "cell_type": "code",
   "execution_count": 19,
   "metadata": {},
   "outputs": [
    {
     "data": {
      "text/plain": [
       "[{'name': 'Alice', 'age': 8},\n",
       " {'name': 'Charlie', 'age': 9},\n",
       " {'age': 18, 'name': 'Bob'}]"
      ]
     },
     "execution_count": 19,
     "metadata": {},
     "output_type": "execute_result"
    }
   ],
   "source": [
    "lst = [{\"age\": 18, \"name\": \"Bob\"},{\"name\": \"Alice\", \"age\": 8}, {\"name\": \"Charlie\", \"age\": 9}]\n",
    "sorted(lst, key = lambda d: d[\"age\"])\n"
   ]
  },
  {
   "cell_type": "markdown",
   "metadata": {},
   "source": [
    "### Sort a list of dictionary by single key\n"
   ]
  },
  {
   "cell_type": "code",
   "execution_count": 39,
   "metadata": {},
   "outputs": [
    {
     "data": {
      "text/plain": [
       "[{'A': 22, 'B': 4}, {'A': 4}, {'A': 6, 'B': 8}]"
      ]
     },
     "execution_count": 39,
     "metadata": {},
     "output_type": "execute_result"
    }
   ],
   "source": [
    "dicts = [{\"A\":22, \"B\":4}, {\"A\":4}, {\"A\":6, \"B\":8}]\n",
    "keys = [\"A\"]\n",
    "sorted(dicts, key=lambda d: [k in d for k in keys])\n",
    "\n",
    "# sorted(dicts, key=lambda d: d[\"A\"])"
   ]
  },
  {
   "cell_type": "markdown",
   "metadata": {},
   "source": [
    "### Sort a list of dictionary by multiple keys\n"
   ]
  },
  {
   "cell_type": "code",
   "execution_count": 21,
   "metadata": {},
   "outputs": [
    {
     "data": {
      "text/plain": [
       "[{5: 6, 7: 8}, {1: 2, 3: 4}, {3: 4}]"
      ]
     },
     "execution_count": 21,
     "metadata": {},
     "output_type": "execute_result"
    }
   ],
   "source": [
    "dicts = [{1:2, 3:4}, {3:4}, {5:6, 7:8}]\n",
    "keys = [5, 3, 1]\n",
    "sorted(dicts, key=lambda d: [k in d for k in keys], reverse=True)"
   ]
  },
  {
   "cell_type": "markdown",
   "metadata": {},
   "source": [
    "# Tuples\n",
    "Tuples are like lists and they can store all sorts of objects (e.g. strings, integers, dictionaries, other tuples), but they are **immutable**. \n",
    "\n",
    "They are useful when you want to group a bunch of values together (e.g. x y coordinates) and never change them.\n",
    "\n",
    "# Strings\n",
    "Strings are **immutable**, but there are a lot of useful methods for string manipulation. \n",
    "\n",
    "**Convert cases***\n",
    "- str.lower()\n",
    "- str.upper() \n",
    "- str.swapcases()\n",
    "- str.capitalize()\n",
    "\n",
    "**Check if string has a certain type**\n",
    "- str.isspace(): checks if the caracters \n",
    "- str.isalpha(): checks if string is alphabetic\n",
    "- str.isalfanum(): check if strings is alphanumeric\n",
    "- str.isdigit(): check if string is number only\n",
    "\n",
    "**Replace characters**\n",
    "- str.replace(\"a\", \"b\"): replace character \"a\", with character \"b\"\n",
    "- str.translate() & str.maketrans()\n",
    "\n",
    "**Remove spaces**\n",
    "- str.strip(): remove leading and trailing whitespace\n",
    "- str.rstrip():\n",
    "- str.lstrip(): remove leading whitespace\n",
    "\n",
    "**Split and join strings**\n",
    "- str.split(self, /, sep=None, maxsplit=-1):  Return a list of the words in the string, using sep as the delimiter string\n",
    "- str.splitlines(): split lines at new line\n",
    "- str.join(self, iterable, /): Concatenate any number of strings. '.'.join(['ab', 'pq', 'rs']) -> 'ab.pq.rs'\n",
    "- str.partition(self, sep, /): Partition the string into three parts using the given separator.\n",
    "\n",
    "# Sets\n",
    "Sets are a **mutable** type and they are very useful to remove duplicates in Python and to perform set operations like intersection and union "
   ]
  },
  {
   "cell_type": "code",
   "execution_count": 22,
   "metadata": {},
   "outputs": [
    {
     "data": {
      "text/plain": [
       "{(1, 2), 1, 2, 3, 6, 'A'}"
      ]
     },
     "execution_count": 22,
     "metadata": {},
     "output_type": "execute_result"
    }
   ],
   "source": [
    "a = {1, 2, 3}\n",
    "b = {(1, 2), 2, 3, 6, 'A'}\n",
    "\n",
    "a.intersection(b) #  {2, 3}\n",
    "a.union(b) # {(1, 2), 1, 2, 3, 6, 'A'}"
   ]
  },
  {
   "cell_type": "markdown",
   "metadata": {},
   "source": [
    "## Convert nested lists into lists of sets\n",
    "It could be useful sometimes to convert list into sets. However, set require their items to be hashable. Out of types predefined by Python only the immutable ones, such as strings, numbers, and tuples, are hashable. \n",
    "\n",
    "Mutable types, such as lists and dicts, are not hashable because a change of their contents would change the hash and break the lookup code.\n",
    "\n",
    "As a solution we can either:\n"
   ]
  },
  {
   "cell_type": "code",
   "execution_count": 24,
   "metadata": {},
   "outputs": [
    {
     "name": "stdout",
     "output_type": "stream",
     "text": [
      "{(3, 4, 5), (1, 2, 3)}\n"
     ]
    }
   ],
   "source": [
    "# Method 1: convert the inner lists in tuples\n",
    "lst = [[1, 2, 3], [3, 4, 5]]\n",
    "lst = [tuple(el) for el in lst] # [(1, 2, 3), (3, 4, 5)]\n",
    "\n",
    "new_set = set(lst)  # {(1, 2, 3), (3, 4, 5)}\n",
    "print(new_set)\n",
    "\n",
    "# Method 2: convert the inner lists to sets using list comprehensions\n",
    "lst = [[1, 2, 3], [4, 5, 6], [5, 1, 2]]\n",
    "list_of_sets = [set(el) for el in lst] # [{1, 2, 3}, {4, 5, 6}, {1, 2, 5}]\n",
    "\n",
    "# Method 3: flatten the matrix, then convert it\n",
    "lst = [[1, 2, 3], [4, 5, 6], [5, 1, 2]]\n",
    "\n",
    "flatten = [item for l in lst for item in l] # [1, 2, 3, 4, 5, 6, 5, 1, 2]\n"
   ]
  },
  {
   "cell_type": "markdown",
   "metadata": {},
   "source": [
    "### Create set of sets\n",
    "Similarly, sets are **mutable** data types: directly trying to create a set of set will result into an ```unhashable type``` error.\n",
    "\n",
    "Solutions are using **frozensets**:  a set built-in in Python. Does everything that the \"regular\" set does, but it's immutable and hashable"
   ]
  },
  {
   "cell_type": "code",
   "execution_count": 46,
   "metadata": {},
   "outputs": [
    {
     "name": "stdout",
     "output_type": "stream",
     "text": [
      "Nested list: [[1, 2, 3], [4, 4, 4], [5, 2, 2]]\n",
      "\n",
      "List of Frozenset: [frozenset({1, 2, 3}), frozenset({4}), frozenset({2, 5})]\n",
      "\n",
      "Set of Sets: {frozenset({1, 2, 3}), frozenset({2, 5}), frozenset({4})}\n",
      "\n"
     ]
    }
   ],
   "source": [
    "lst = [[1, 2, 3], [4, 4, 4], [5, 2, 2]]\n",
    "print(f\"Nested list: {lst}\\n\")\n",
    "list_of_frozensets = [frozenset(item) for item in lst] \n",
    "print(f\"List of Frozenset: {list_of_frozensets}\\n\")\n",
    "\n",
    "set_of_sets = set(list_of_frozensets)\n",
    "print(f\"Set of Sets: {set_of_sets}\\n\")\n",
    "\n"
   ]
  }
 ],
 "metadata": {
  "kernelspec": {
   "display_name": "Python 3 (ipykernel)",
   "language": "python",
   "name": "python3"
  },
  "language_info": {
   "codemirror_mode": {
    "name": "ipython",
    "version": 3
   },
   "file_extension": ".py",
   "mimetype": "text/x-python",
   "name": "python",
   "nbconvert_exporter": "python",
   "pygments_lexer": "ipython3",
   "version": "3.9.12"
  },
  "vscode": {
   "interpreter": {
    "hash": "8bf32a8df28c9a723f371e694d7400cec10cdd60e20f7cbe5a62ff7f77fe944c"
   }
  }
 },
 "nbformat": 4,
 "nbformat_minor": 2
}
