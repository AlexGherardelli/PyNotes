{
 "cells": [
  {
   "cell_type": "markdown",
   "metadata": {},
   "source": [
    "# File manipulation and searching\n",
    "\n",
    "## Reading files\n",
    "\n",
    "Files can be opened in Python using the function ```open```, then specifying mode (i.e. reading, writing) and encoding. \n",
    "\n",
    "The expression ```with open(file) as f``` **automatically closes the file** after use (otherwise, the file must be closed explicitly by using the ```close()``` method)"
   ]
  },
  {
   "cell_type": "code",
   "execution_count": 4,
   "metadata": {},
   "outputs": [
    {
     "name": "stdout",
     "output_type": "stream",
     "text": [
      "Whose biscuit is that? I think I know.\n",
      "\n",
      "Its owner is quite happy though.\n",
      "\n",
      "Full of joy like a vivid rainbow,\n",
      "\n",
      "I watch him laugh. I cry hello.\n",
      "\n"
     ]
    }
   ],
   "source": [
    "with open(\"data/file.txt\", encoding=\"utf-8\") as f:\n",
    "    for line in f:\n",
    "        print(line)\n"
   ]
  },
  {
   "cell_type": "markdown",
   "metadata": {},
   "source": [
    "### JSON\n",
    "JSON files contains data. They can be loaded into Python, then a common workflow is to convert them into dictionaries for additional manipulation (deserialization).\n",
    "\n",
    "First thing, the library ```json``` must be imported"
   ]
  },
  {
   "cell_type": "code",
   "execution_count": 4,
   "metadata": {},
   "outputs": [
    {
     "name": "stdout",
     "output_type": "stream",
     "text": [
      "{'quiz': {'sport': {'q1': {'question': 'Which one is correct team name in NBA?', 'options': ['New York Bulls', 'Los Angeles Kings', 'Golden State Warriros', 'Huston Rocket'], 'answer': 'Huston Rocket'}}, 'maths': {'q1': {'question': '5 + 7 = ?', 'options': ['10', '11', '12', '13'], 'answer': '12'}, 'q2': {'question': '12 - 8 = ?', 'options': ['1', '2', '3', '4'], 'answer': '4'}}}}\n"
     ]
    }
   ],
   "source": [
    "import json\n",
    "\n",
    "# Open JSON data file into a list of dictionaries\n",
    "with open('data/data.json') as data:\n",
    "    d = json.load(data)\n",
    "\n",
    "print(d)"
   ]
  },
  {
   "cell_type": "markdown",
   "metadata": {},
   "source": [
    "Other useful methods are ```json.loads()```, which parse a  JSON string into a dictionary."
   ]
  },
  {
   "cell_type": "markdown",
   "metadata": {},
   "source": [
    "\n",
    "## Writing files\n",
    "\n",
    "Basic writing of files can be done in a similar way as how you read files.\n",
    "**NOTE** The method ```writelines()``` actually writes everything on a single line! **Make sure to add new lines and spacing as required!"
   ]
  },
  {
   "cell_type": "code",
   "execution_count": 5,
   "metadata": {},
   "outputs": [],
   "source": [
    "\n",
    "lines = [\"Volli volli,\",  \"fortissimamente\", \"volli\"]\n",
    "\n",
    "with open(\"data/out_poem.txt\", \"w\") as out:\n",
    "    out.writelines(s + '\\n' for s in lines)"
   ]
  },
  {
   "cell_type": "markdown",
   "metadata": {},
   "source": [
    "### Writing JSON\n",
    "\n",
    "Writing to a JSON file is very simial \n"
   ]
  },
  {
   "cell_type": "code",
   "execution_count": 7,
   "metadata": {},
   "outputs": [],
   "source": [
    "import json\n",
    "data = [\n",
    "    {\"name\": \"Alice\", \"age\": 31},\n",
    "    {\"name\": \"Bob\", \"age\": 24},\n",
    "    {\"name\": \"Charlie\", \"age\": 38 },\n",
    "]\n",
    "\n",
    "with open(\"data/json_output.json\", \"w\") as out:\n",
    "    json.dump(data, out)"
   ]
  },
  {
   "cell_type": "markdown",
   "metadata": {},
   "source": [
    "### Writing CSV\n",
    "\n",
    "CSV is another common data format. \n",
    "\n",
    "The following snippet illustrates how to write data stored in **list of lists** as CSV"
   ]
  },
  {
   "cell_type": "code",
   "execution_count": 20,
   "metadata": {},
   "outputs": [],
   "source": [
    "import csv\n",
    "\n",
    "# Add Header\n",
    "header = [\"name\", \"age\"]\n",
    "# Add data\n",
    "data = [\n",
    "        [\"Alice\", 31],\n",
    "        [\"Bob\", 24],\n",
    "        [\"Charlie\", 30]\n",
    "        ]\n",
    "\n",
    "with open(\"data/lst_data.csv\", \"w\", newline=\"\") as out:\n",
    "    writer = csv.writer(out)\n",
    "    writer.writerow(header)\n",
    "    writer.writerows(data)"
   ]
  },
  {
   "cell_type": "markdown",
   "metadata": {},
   "source": [
    "The following snippet shows how to write data stored in **dictionary** format in CSV."
   ]
  },
  {
   "cell_type": "code",
   "execution_count": 19,
   "metadata": {},
   "outputs": [],
   "source": [
    "import csv\n",
    "\n",
    "header = ['name', 'age']\n",
    "data = [\n",
    "    {\"name\": \"Alice\", \"age\": 31},\n",
    "    {\"name\": \"Bob\", \"age\": 24},\n",
    "    {\"name\": \"Charlie\", \"age\": 38 },\n",
    "]\n",
    "\n",
    "with open(\"data/dct_data.csv\", \"w\", encoding=\"utf-8\", newline=\"\") as out:\n",
    "    writer = csv.DictWriter(out, fieldnames = header)\n",
    "    writer.writeheader()\n",
    "    writer.writerows(data)"
   ]
  },
  {
   "cell_type": "markdown",
   "metadata": {},
   "source": [
    "## Parsing and cleaning input from file\n",
    "\n",
    "### Removing whitespace"
   ]
  },
  {
   "cell_type": "code",
   "execution_count": 10,
   "metadata": {},
   "outputs": [
    {
     "name": "stdout",
     "output_type": "stream",
     "text": [
      "remove_space: [['The', 'cheese-mites', 'asked', 'how', 'the', 'cheese', 'got', 'there,'], ['And', 'warmly', 'debated', 'the', 'matter;'], ['The', 'Orthodox', 'said', 'that', 'it', 'came', 'from', 'the', 'air,'], ['And', 'the', 'Heretics', 'said', 'from', 'the', 'platter.'], ['They', 'argued', 'it', 'long', 'and', 'they', 'argued', 'it', 'strong,'], ['And', 'I', 'hear', 'they', 'are', 'arguing', 'now;'], ['But', 'of', 'all', 'the', 'choice', 'spirits', 'who', 'lived', 'in', 'the', 'cheese,'], ['Not', 'one', 'of', 'them', 'thought', 'of', 'a', 'cow.']]\n",
      "\n"
     ]
    }
   ],
   "source": [
    "def remove_space(file):\n",
    "    \"\"\"Remove all whitespace from file.\"\"\"\n",
    "    cleaned = []\n",
    "    \n",
    "    with open(file, 'r', encoding=\"utf=8\") as f:\n",
    "        for line in f:\n",
    "            if not line.isspace():\n",
    "                cleaned.append(line.split())\n",
    "        return cleaned\n",
    "\n",
    "            \n",
    "f = remove_space(\"data/poem.txt\")\n",
    "print(f\"remove_space: {f}\\n\") # File as a list of lists of strings, each line a new "
   ]
  },
  {
   "cell_type": "markdown",
   "metadata": {},
   "source": [
    "### Keeping only numbers from file\n",
    "\n"
   ]
  },
  {
   "cell_type": "code",
   "execution_count": 13,
   "metadata": {},
   "outputs": [
    {
     "name": "stdout",
     "output_type": "stream",
     "text": [
      "keep_numbers: [465, 67, 9034, 21, 86255, 123178319829389, 12938]\n",
      "\n"
     ]
    }
   ],
   "source": [
    "def keep_numbers(file):\n",
    "    \"\"\"Get all ints in the file text.\"\"\"\n",
    "    cleaned = []    \n",
    "    with open(file, \"r\", encoding=\"utf-8\") as f:\n",
    "        f = f.readlines()\n",
    "        for line in f:\n",
    "            filtered = list(map(int, filter(lambda x: x.isnumeric(), line)))\n",
    "            if len(filtered) > 0:\n",
    "                strings = \"\".join(list(map(str, filtered)))\n",
    "                cleaned.append(int(strings))                \n",
    "    return cleaned\n",
    "        \n",
    "f = keep_numbers(\"data/complex_file.txt\")\n",
    "print(f'keep_numbers: {f}\\n') # File returns as list of ints, no whitepsace"
   ]
  },
  {
   "cell_type": "markdown",
   "metadata": {},
   "source": [
    "### Keeping only alphabetic characters\n",
    "\n"
   ]
  },
  {
   "cell_type": "code",
   "execution_count": 14,
   "metadata": {},
   "outputs": [
    {
     "name": "stdout",
     "output_type": "stream",
     "text": [
      "keep_alphanumeric: ['SQJSGqCIhfmYsQizUlhtKmFo', 'YkBYVe', 'sHmFxGlDcZypjXpF', 'Fr', 'tmbfYDLreNEasPrRo', 'mBvPjgyAzUDKMVZmo', 'fIjWQXyuCZZHbIozo', 'One', 'He', 'The', 'seemed', 'His']\n",
      "\n"
     ]
    }
   ],
   "source": [
    "def keep_alphanumeric(file):\n",
    "    \"\"\"Get all string in text file.\"\"\"\n",
    "    cleaned = []\n",
    "    with open(file) as f:\n",
    "        for line in f:\n",
    "            line = line.split()\n",
    "            if not len(line) == 0:\n",
    "                line = list(line[0])\n",
    "                line = list(map(str, filter(lambda x: x.isalpha(), line)))\n",
    "                line = \"\".join(line)\n",
    "                if not line == \"\":\n",
    "                    cleaned.append(\"\".join(line))\n",
    "    return cleaned\n",
    "                \n",
    "\n",
    "f = keep_alphanumeric(\"data/complex_file.txt\")\n",
    "print(f\"keep_alphanumeric: {f}\\n\")"
   ]
  },
  {
   "cell_type": "markdown",
   "metadata": {},
   "source": [
    "### Remove special characters"
   ]
  },
  {
   "cell_type": "code",
   "execution_count": 15,
   "metadata": {},
   "outputs": [
    {
     "name": "stdout",
     "output_type": "stream",
     "text": [
      "Remove special chars: [['S', 'QJSG', 'qC', 'Ih', 'fmYsQi', 'zUlhtKmFo'], ['Y', 'k', 'B', 'Y', 'Ve'], ['sHmFxG', 'l', 'DcZy', 'pjX', 'pF'], ['F', 'r'], ['t', 'm', 'bf', 'YD', 'Lr', 'e', 'NEasPr', 'R', 'o'], ['mB', 'vPjg', 'yA', 'z', 'U', 'D', 'KM', 'V', 'Zmo'], ['fIj', 'WQX', 'yu', 'CZZH', 'bI', 'o', 'z', 'o'], [], [], ['One', 'morning', 'when', 'Gregor', 'Samsa', 'woke', 'from', 'troubled', 'dreams', 'he', 'found', 'himself', 'transformed', 'in', 'his', 'bed', 'into', 'a', 'horrible', 'vermin'], ['He', 'lay', 'on', 'his', 'armour', 'like', 'back', 'and', 'if', 'he', 'lifted', 'his', 'head', 'a', 'little', 'he', 'could', 'see', 'his', 'brown', 'belly', 'slightly', 'domed', 'and', 'divided', 'by', 'arches', 'into', 'stiff', 'sections'], ['The', 'bedding', 'was', 'hardly', 'able', 'to', 'cover', 'it', 'and'], ['seemed', 'ready', 'to', 'slide', 'off', 'any', 'moment'], ['His', 'many', 'legs', 'pitifully', 'thin', 'compared', 'with', 'the', 'size', 'of', 'the', 'rest', 'of', 'him', 'waved', 'about', 'helplessly', 'as', 'he', 'looked', 'What', 's', 'happened', 'to', 'me', 'he', 'thought', 'It', 'wasn', 't', 'a', 'dream', 'His', 'room', 'a', 'proper', 'human', 'room', 'although', 'a', 'little', 'too', 'small', 'lay', 'peacefully', 'between', 'its', 'four', 'familiar', 'walls', 'A', 'collection', 'of', 'textile', 'samples', 'lay', 'spread', 'out', 'on', 'the', 'table', 'Samsa', 'was', 'a', 'travelling', 'salesman', 'and', 'above', 'it', 'there', 'hung', 'a', 'picture', 'that', 'he', 'had', 'recently', 'cut', 'out', 'of', 'an', 'illustrated', 'magazine', 'and', 'housed', 'in', 'a', 'nice', 'gilded', 'frame', 'It', 'showed', 'a', 'lady', 'fitted', 'out', 'with', 'a', 'fur', 'hat', 'and', 'fur', 'boa', 'who', 'sat', 'upright', 'raising', 'a', 'heavy', 'fur', 'muff', 'that', 'covered', 'the', 'whole', 'of', 'her', 'lower', 'arm', 'towards', 'the', 'viewer', 'Gregor', 'then', 'turned', 'to', 'look', 'out', 'the', 'window', 'at', 'the', 'dull', 'weather']]\n",
      "\n"
     ]
    }
   ],
   "source": [
    "def remove_special_chars(file):\n",
    "    '''\n",
    "    Remove all special chars from text file\n",
    "    '''\n",
    "    poem = []\n",
    "    with open(file, encoding=\"utf8\") as f:\n",
    "        for line in f:\n",
    "            if not line.isspace(): \n",
    "                filter_line = [word if word.isalpha() else ' ' for word in line]\n",
    "                alpha_line = ''.join(filter_line)\n",
    "                poem.append(alpha_line.split())\n",
    "    return poem\n",
    "\n",
    "\n",
    "f = remove_special_chars(\"data/complex_file.txt\")\n",
    "print(f\"Remove special chars: {f}\\n\")"
   ]
  },
  {
   "cell_type": "code",
   "execution_count": 16,
   "metadata": {},
   "outputs": [],
   "source": [
    "def clean_file(inputfilename):\n",
    "    \"\"\"\n",
    "    Read file, split it at spaces and commas, convert text in int, and group inputs in tuples of len 5\n",
    "    \"\"\"\n",
    "    with open(inputfilename) as f:\n",
    "        lst = []\n",
    "        for line in f:\n",
    "            line = \"\".join(line.split())\n",
    "            line = line.split(\",\")\n",
    "            filtered = list(map(int, filter(lambda x: x.isnumeric(), line))) \n",
    "            split_filtered = [tuple(filtered[i:i+5]) for i in range(0, len(filtered), 5)]\n",
    "            lst.append(split_filtered)\n",
    "        return lst\n",
    "\n",
    "\n"
   ]
  },
  {
   "cell_type": "markdown",
   "metadata": {},
   "source": [
    "#### TODO"
   ]
  },
  {
   "cell_type": "code",
   "execution_count": null,
   "metadata": {},
   "outputs": [],
   "source": [
    "def replace_charactes(file):\n",
    "    \"\"\"\n",
    "    Replace multiple characters \n",
    "    \"\"\"\n",
    "    pass"
   ]
  }
 ],
 "metadata": {
  "kernelspec": {
   "display_name": "Python 3.9.12 ('base')",
   "language": "python",
   "name": "python3"
  },
  "language_info": {
   "codemirror_mode": {
    "name": "ipython",
    "version": 3
   },
   "file_extension": ".py",
   "mimetype": "text/x-python",
   "name": "python",
   "nbconvert_exporter": "python",
   "pygments_lexer": "ipython3",
   "version": "3.9.12"
  },
  "orig_nbformat": 4,
  "vscode": {
   "interpreter": {
    "hash": "8bf32a8df28c9a723f371e694d7400cec10cdd60e20f7cbe5a62ff7f77fe944c"
   }
  }
 },
 "nbformat": 4,
 "nbformat_minor": 2
}
