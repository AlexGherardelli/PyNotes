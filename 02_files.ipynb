{
 "cells": [
  {
   "cell_type": "markdown",
   "metadata": {},
   "source": [
    "# File manipulation and searching\n",
    "\n",
    "## Reading files\n",
    "\n",
    "Files can be opened in Python using the function ```open```, then specifying mode (i.e. reading, writing) and encoding. \n",
    "\n",
    "The expression ```with open(file) as f``` **automatically closes the file** after use (otherwise, the file must be closed explicitly by using the ```close()``` method)"
   ]
  },
  {
   "cell_type": "code",
   "execution_count": 12,
   "metadata": {},
   "outputs": [
    {
     "name": "stdout",
     "output_type": "stream",
     "text": [
      "Whose biscuit is that? I think I know.\n",
      "\n",
      "Its owner is quite happy though.\n",
      "\n",
      "Full of joy like a vivid rainbow,\n",
      "\n",
      "I watch him laugh. I cry hello.\n",
      "\n"
     ]
    }
   ],
   "source": [
    "with open(\"data/file.txt\", encoding=\"utf-8\") as f:\n",
    "    for line in f:\n",
    "        print(line)\n"
   ]
  },
  {
   "cell_type": "markdown",
   "metadata": {},
   "source": [
    "### JSON\n",
    "JSON files contains data. They can be loaded into Python, then a common workflow is to convert them into dictionaries for additional manipulation (deserialization).\n",
    "\n",
    "First thing, the library ```json``` must be imported"
   ]
  },
  {
   "cell_type": "code",
   "execution_count": 4,
   "metadata": {},
   "outputs": [
    {
     "name": "stdout",
     "output_type": "stream",
     "text": [
      "{'quiz': {'sport': {'q1': {'question': 'Which one is correct team name in NBA?', 'options': ['New York Bulls', 'Los Angeles Kings', 'Golden State Warriros', 'Huston Rocket'], 'answer': 'Huston Rocket'}}, 'maths': {'q1': {'question': '5 + 7 = ?', 'options': ['10', '11', '12', '13'], 'answer': '12'}, 'q2': {'question': '12 - 8 = ?', 'options': ['1', '2', '3', '4'], 'answer': '4'}}}}\n"
     ]
    }
   ],
   "source": [
    "import json\n",
    "\n",
    "# Open JSON data file into a list of dictionaries\n",
    "with open('data/data.json') as data:\n",
    "    d = json.load(data)\n",
    "\n",
    "print(d)"
   ]
  },
  {
   "cell_type": "markdown",
   "metadata": {},
   "source": [
    "Other useful methods are ```json.loads()```, which parse a  JSON string into a dictionary."
   ]
  },
  {
   "cell_type": "markdown",
   "metadata": {},
   "source": [
    "\n",
    "## Writing files\n",
    "\n",
    "Basic writing of files can be done in a similar way as how you read files.\n",
    "**NOTE** The method ```writelines()``` actually writes everything on a single line! **Make sure to add new lines and spacing as required!"
   ]
  },
  {
   "cell_type": "code",
   "execution_count": 14,
   "metadata": {},
   "outputs": [],
   "source": [
    "\n",
    "lines = [\"Volli volli,\",  \"fortissimamente\", \"volli\"]\n",
    "\n",
    "with open(\"data/poem.txt\", \"w\") as out:\n",
    "    out.writelines(s + '\\n' for s in lines)"
   ]
  },
  {
   "cell_type": "markdown",
   "metadata": {},
   "source": [
    "### Writing JSON\n",
    "\n",
    "Writing to a JSON file is very simial \n"
   ]
  },
  {
   "cell_type": "code",
   "execution_count": 15,
   "metadata": {},
   "outputs": [],
   "source": [
    "data = [\n",
    "    {\"name\": \"Alice\", \"age\": 31},\n",
    "    {\"name\": \"Bob\", \"age\": 24},\n",
    "    {\"name\": \"Charlie\", \"age\": 38 },\n",
    "]\n",
    "\n",
    "with open(\"data/output.json\", \"w\") as out:\n",
    "    json.dump(data, out)"
   ]
  },
  {
   "cell_type": "markdown",
   "metadata": {},
   "source": [
    "### Writing CSV\n",
    "\n",
    "CSV is another common data format. \n",
    "\n",
    "The following snippet illustrates how to write data stored in **list of lists** as CSV"
   ]
  },
  {
   "cell_type": "code",
   "execution_count": 20,
   "metadata": {},
   "outputs": [],
   "source": [
    "import csv\n",
    "\n",
    "# Add Header\n",
    "header = [\"name\", \"age\"]\n",
    "# Add data\n",
    "data = [\n",
    "        [\"Alice\", 31],\n",
    "        [\"Bob\", 24],\n",
    "        [\"Charlie\", 30]\n",
    "        ]\n",
    "\n",
    "with open(\"data/lst_data.csv\", \"w\", newline=\"\") as out:\n",
    "    writer = csv.writer(out)\n",
    "    writer.writerow(header)\n",
    "    writer.writerows(data)"
   ]
  },
  {
   "cell_type": "markdown",
   "metadata": {},
   "source": [
    "The following snippet shows how to write data stored in **dictionary** format in CSV."
   ]
  },
  {
   "cell_type": "code",
   "execution_count": 19,
   "metadata": {},
   "outputs": [],
   "source": [
    "import csv\n",
    "\n",
    "header = ['name', 'age']\n",
    "data = [\n",
    "    {\"name\": \"Alice\", \"age\": 31},\n",
    "    {\"name\": \"Bob\", \"age\": 24},\n",
    "    {\"name\": \"Charlie\", \"age\": 38 },\n",
    "]\n",
    "\n",
    "with open(\"data/dct_data.csv\", \"w\", encoding=\"utf-8\", newline=\"\") as out:\n",
    "    writer = csv.DictWriter(out, fieldnames = header)\n",
    "    writer.writeheader()\n",
    "    writer.writerows(data)"
   ]
  },
  {
   "cell_type": "markdown",
   "metadata": {},
   "source": [
    "## Parsing and cleaning input from file\n",
    "\n",
    "### Removing whitespace"
   ]
  },
  {
   "cell_type": "code",
   "execution_count": 21,
   "metadata": {},
   "outputs": [
    {
     "name": "stdout",
     "output_type": "stream",
     "text": [
      "remove_space: [['Whose', 'biscuit', 'is', 'that?', 'I', 'think', 'I', 'know.'], ['Its', 'owner', 'is', 'quite', 'happy', 'though.'], ['Full', 'of', 'joy', 'like', 'a', 'vivid', 'rainbow,'], ['I', 'watch', 'him', 'laugh.', 'I', 'cry', 'hello.']]\n",
      "\n"
     ]
    }
   ],
   "source": [
    "def remove_space(file):\n",
    "    \"\"\"Remove all whitespace from file.\"\"\"\n",
    "    cleaned = []\n",
    "    \n",
    "    with open(file, 'r', encoding=\"utf=8\") as f:\n",
    "        for line in f:\n",
    "            if not line.isspace():\n",
    "                cleaned.append(line.split())\n",
    "        return cleaned\n",
    "\n",
    "            \n",
    "f = remove_space(\"data/file.txt\")\n",
    "print(f\"remove_space: {f}\\n\") # File as a list of lists of strings, each line a new "
   ]
  },
  {
   "cell_type": "markdown",
   "metadata": {},
   "source": [
    "### Keeping only numbers from file\n",
    "\n"
   ]
  },
  {
   "cell_type": "code",
   "execution_count": 22,
   "metadata": {},
   "outputs": [
    {
     "ename": "FileNotFoundError",
     "evalue": "[Errno 2] No such file or directory: 'file.txt'",
     "output_type": "error",
     "traceback": [
      "\u001b[1;31m---------------------------------------------------------------------------\u001b[0m",
      "\u001b[1;31mFileNotFoundError\u001b[0m                         Traceback (most recent call last)",
      "\u001b[1;32mc:\\Users\\alessandra.gherardel\\Projects\\PyNotes\\02_files.ipynb Cell 17'\u001b[0m in \u001b[0;36m<cell line: 13>\u001b[1;34m()\u001b[0m\n\u001b[0;32m     <a href='vscode-notebook-cell:/c%3A/Users/alessandra.gherardel/Projects/PyNotes/02_files.ipynb#ch0000019?line=9'>10</a>\u001b[0m                 cleaned\u001b[39m.\u001b[39mappend(\u001b[39mint\u001b[39m(strings))                \n\u001b[0;32m     <a href='vscode-notebook-cell:/c%3A/Users/alessandra.gherardel/Projects/PyNotes/02_files.ipynb#ch0000019?line=10'>11</a>\u001b[0m     \u001b[39mreturn\u001b[39;00m cleaned\n\u001b[1;32m---> <a href='vscode-notebook-cell:/c%3A/Users/alessandra.gherardel/Projects/PyNotes/02_files.ipynb#ch0000019?line=12'>13</a>\u001b[0m f \u001b[39m=\u001b[39m keep_numbers(\u001b[39m\"\u001b[39;49m\u001b[39mfile.txt\u001b[39;49m\u001b[39m\"\u001b[39;49m)\n\u001b[0;32m     <a href='vscode-notebook-cell:/c%3A/Users/alessandra.gherardel/Projects/PyNotes/02_files.ipynb#ch0000019?line=13'>14</a>\u001b[0m \u001b[39mprint\u001b[39m(\u001b[39mf\u001b[39m\u001b[39m'\u001b[39m\u001b[39mkeep_numbers: \u001b[39m\u001b[39m{\u001b[39;00mf\u001b[39m}\u001b[39;00m\u001b[39m\\n\u001b[39;00m\u001b[39m'\u001b[39m)\n",
      "\u001b[1;32mc:\\Users\\alessandra.gherardel\\Projects\\PyNotes\\02_files.ipynb Cell 17'\u001b[0m in \u001b[0;36mkeep_numbers\u001b[1;34m(file)\u001b[0m\n\u001b[0;32m      <a href='vscode-notebook-cell:/c%3A/Users/alessandra.gherardel/Projects/PyNotes/02_files.ipynb#ch0000019?line=1'>2</a>\u001b[0m \u001b[39m\"\"\"Get all ints in the file text.\"\"\"\u001b[39;00m\n\u001b[0;32m      <a href='vscode-notebook-cell:/c%3A/Users/alessandra.gherardel/Projects/PyNotes/02_files.ipynb#ch0000019?line=2'>3</a>\u001b[0m cleaned \u001b[39m=\u001b[39m []    \n\u001b[1;32m----> <a href='vscode-notebook-cell:/c%3A/Users/alessandra.gherardel/Projects/PyNotes/02_files.ipynb#ch0000019?line=3'>4</a>\u001b[0m \u001b[39mwith\u001b[39;00m \u001b[39mopen\u001b[39;49m(file, \u001b[39m\"\u001b[39;49m\u001b[39mr\u001b[39;49m\u001b[39m\"\u001b[39;49m, encoding\u001b[39m=\u001b[39;49m\u001b[39m\"\u001b[39;49m\u001b[39mutf-8\u001b[39;49m\u001b[39m\"\u001b[39;49m) \u001b[39mas\u001b[39;00m f:\n\u001b[0;32m      <a href='vscode-notebook-cell:/c%3A/Users/alessandra.gherardel/Projects/PyNotes/02_files.ipynb#ch0000019?line=4'>5</a>\u001b[0m     f \u001b[39m=\u001b[39m f\u001b[39m.\u001b[39mreadlines()\n\u001b[0;32m      <a href='vscode-notebook-cell:/c%3A/Users/alessandra.gherardel/Projects/PyNotes/02_files.ipynb#ch0000019?line=5'>6</a>\u001b[0m     \u001b[39mfor\u001b[39;00m line \u001b[39min\u001b[39;00m f:\n",
      "\u001b[1;31mFileNotFoundError\u001b[0m: [Errno 2] No such file or directory: 'file.txt'"
     ]
    }
   ],
   "source": [
    "def keep_numbers(file):\n",
    "    \"\"\"Get all ints in the file text.\"\"\"\n",
    "    cleaned = []    \n",
    "    with open(file, \"r\", encoding=\"utf-8\") as f:\n",
    "        f = f.readlines()\n",
    "        for line in f:\n",
    "            filtered = list(map(int, filter(lambda x: x.isnumeric(), line)))\n",
    "            if len(filtered) > 0:\n",
    "                strings = \"\".join(list(map(str, filtered)))\n",
    "                cleaned.append(int(strings))                \n",
    "    return cleaned\n",
    "        \n",
    "f = keep_numbers(\"file.txt\")\n",
    "print(f'keep_numbers: {f}\\n') # File returns as list of ints, no whitepsace"
   ]
  },
  {
   "cell_type": "markdown",
   "metadata": {},
   "source": [
    "### Keeping only alphabetic characters\n",
    "\n"
   ]
  },
  {
   "cell_type": "code",
   "execution_count": 24,
   "metadata": {},
   "outputs": [
    {
     "name": "stdout",
     "output_type": "stream",
     "text": [
      "keep_alphanumeric: ['Whose', 'Its', 'Full', 'I']\n",
      "\n"
     ]
    }
   ],
   "source": [
    "def keep_alphanumeric(file):\n",
    "    \"\"\"Get all string in text file.\"\"\"\n",
    "    cleaned = []\n",
    "    with open(file) as f:\n",
    "        for line in f:\n",
    "            line = line.split()\n",
    "            if not len(line) == 0:\n",
    "                line = list(line[0])\n",
    "                line = list(map(str, filter(lambda x: x.isalpha(), line)))\n",
    "                line = \"\".join(line)\n",
    "                if not line == \"\":\n",
    "                    cleaned.append(\"\".join(line))\n",
    "    return cleaned\n",
    "                \n",
    "\n",
    "f = keep_alphanumeric(\"data/file.txt\")\n",
    "print(f\"keep_alphanumeric: {f}\\n\")"
   ]
  }
 ],
 "metadata": {
  "kernelspec": {
   "display_name": "Python 3.9.12 ('base')",
   "language": "python",
   "name": "python3"
  },
  "language_info": {
   "codemirror_mode": {
    "name": "ipython",
    "version": 3
   },
   "file_extension": ".py",
   "mimetype": "text/x-python",
   "name": "python",
   "nbconvert_exporter": "python",
   "pygments_lexer": "ipython3",
   "version": "3.9.12"
  },
  "orig_nbformat": 4,
  "vscode": {
   "interpreter": {
    "hash": "8bf32a8df28c9a723f371e694d7400cec10cdd60e20f7cbe5a62ff7f77fe944c"
   }
  }
 },
 "nbformat": 4,
 "nbformat_minor": 2
}
