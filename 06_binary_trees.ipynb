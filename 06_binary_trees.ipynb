{
 "cells": [
  {
   "cell_type": "markdown",
   "metadata": {},
   "source": [
    "# Binary Trees\n",
    "Binary trees are data structures where each node has at most two children, referred as right child and left child.\n",
    "\n",
    "The tree is analogous to the first call to a recursive function, the branching points are analogous to recursive cases, and the leaves are analogous to the base cases where no more recursive calls are made.\n"
   ]
  },
  {
   "cell_type": "markdown",
   "metadata": {},
   "source": [
    "## Definition of a Binary Tree"
   ]
  },
  {
   "cell_type": "code",
   "execution_count": 4,
   "metadata": {},
   "outputs": [],
   "source": [
    "class BinaryTree:\n",
    "    def __init__(self, value, left = None, right = None):\n",
    "        \"\"\"Assigns a value to a node, a  left child and a right child.\"\"\"\n",
    "        self.value = value\n",
    "        self.right = right\n",
    "        self.left = left\n",
    "\n",
    "    def __str__(self, lev = 0):\n",
    "        \"\"\"Returns representation of binary tree.\"\"\"\n",
    "        tab = \"   \"*lev     # current indentation level\n",
    "        result = f\"{tab}BinaryTree( {self.value} )\"\n",
    "        if self.left:\n",
    "            result += f\"\\n{self.left.__str__(lev+1)}\"\n",
    "        else:\n",
    "            result += f\"\\n{tab}   None\"\n",
    "        if self.right:\n",
    "            result += f\"\\n{self.right.__str__(lev+1)}\"\n",
    "        else:\n",
    "            result += f\"\\n{tab}   None\"\n",
    "        return result"
   ]
  },
  {
   "cell_type": "markdown",
   "metadata": {},
   "source": [
    "Using this simple definition, we can create a binary tree with a few nodes"
   ]
  },
  {
   "cell_type": "code",
   "execution_count": 11,
   "metadata": {},
   "outputs": [
    {
     "name": "stdout",
     "output_type": "stream",
     "text": [
      "BinaryTree( 2 )\n",
      "   BinaryTree( 1 )\n",
      "      None\n",
      "      None\n",
      "   BinaryTree( 3 )\n",
      "      None\n",
      "      None\n"
     ]
    }
   ],
   "source": [
    "node_1 = BinaryTree(1)\n",
    "node_2 = BinaryTree(3)\n",
    "simple_tree = BinaryTree(2, node_1, node_2)\n",
    "\n",
    "print(simple_tree)"
   ]
  },
  {
   "cell_type": "markdown",
   "metadata": {},
   "source": [
    "Sample tree used for all examples\n",
    "![Sample Binary](Trees/sample_binary.JPG)"
   ]
  },
  {
   "cell_type": "code",
   "execution_count": 20,
   "metadata": {},
   "outputs": [
    {
     "name": "stdout",
     "output_type": "stream",
     "text": [
      "BinaryTree( 50 )\n",
      "   BinaryTree( 25 )\n",
      "      BinaryTree( 10 )\n",
      "         BinaryTree( 5 )\n",
      "            None\n",
      "            None\n",
      "         BinaryTree( 13 )\n",
      "            None\n",
      "            None\n",
      "      BinaryTree( 35 )\n",
      "         BinaryTree( 30 )\n",
      "            None\n",
      "            None\n",
      "         BinaryTree( 45 )\n",
      "            None\n",
      "            None\n",
      "   BinaryTree( 75 )\n",
      "      None\n",
      "      None\n"
     ]
    }
   ],
   "source": [
    "\n",
    "\n",
    "# Level 1: root\n",
    "tree = BinaryTree(50)\n",
    "# Level 2\n",
    "tree.left = BinaryTree(25)\n",
    "tree.right = BinaryTree(75)\n",
    "# Level 3\n",
    "tree.left.left = BinaryTree(10)\n",
    "tree.left.right = BinaryTree(35)\n",
    "# Level 4\n",
    "tree.left.left.left = BinaryTree(5)\n",
    "tree.left.left.right = BinaryTree(13)\n",
    "tree.left.right.left = BinaryTree(30)\n",
    "tree.left.right.right = BinaryTree(45)\n",
    "\n",
    "print(tree)\n"
   ]
  },
  {
   "cell_type": "markdown",
   "metadata": {},
   "source": [
    "# Trasversing a tree \n",
    "\n",
    "## Pre-order trasversal\n",
    "Preorder traversal of binary tree is a traversal method, where the root node is visited first, then left subtree and then the right sub tree. It follows the diagonal, as shown in the picture.\n",
    "\n",
    "![Binary Tree Pre-Order Trasversal](Trees/binary_preorder.JPG \"Binary Tree Pre-Order Trasversal\")\n",
    "\n"
   ]
  },
  {
   "cell_type": "code",
   "execution_count": 39,
   "metadata": {},
   "outputs": [
    {
     "name": "stdout",
     "output_type": "stream",
     "text": [
      "Postorder trasversal: [50, 25, 10, 5, 13, 35, 30, 45, 75]\n"
     ]
    }
   ],
   "source": [
    "def preorder(root, nodes = []):\n",
    "    nodes.append(root.value)\n",
    "    if root.left:\n",
    "        preorder(root.left, nodes)\n",
    "    if root.right:\n",
    "        preorder(root.right, nodes)\n",
    "    return  nodes\n",
    "\n",
    "\n",
    "print(f\"Postorder trasversal: {preorder(tree, nodes = [])}\")\n"
   ]
  },
  {
   "cell_type": "markdown",
   "metadata": {},
   "source": [
    "## In-Order Trasversal\n",
    "Explores nodes in ascending order, from smallest to largest (in an binary search tree)\n",
    "![In-Order Trasversal](Trees/binary_inorder.JPG)\n"
   ]
  },
  {
   "cell_type": "code",
   "execution_count": 36,
   "metadata": {},
   "outputs": [
    {
     "name": "stdout",
     "output_type": "stream",
     "text": [
      "Postorder trasversal: [5, 10, 13, 25, 30, 35, 45, 50, 75]\n"
     ]
    }
   ],
   "source": [
    "def inorder(root, nodes = []):\n",
    "    if root.left:\n",
    "        inorder(root.left, nodes)\n",
    "    \n",
    "    nodes.append(root.value)\n",
    "    if root.right:\n",
    "        inorder(root.right, nodes)\n",
    "    return nodes\n",
    "\n",
    "print(f\"Postorder trasversal: {inorder(tree, nodes = [])}\")\n"
   ]
  },
  {
   "cell_type": "markdown",
   "metadata": {},
   "source": [
    "## Post-Order Trasveral\n",
    "Trasverse the tree left to right, visiting root last\n",
    "\n",
    "![Post-Order Trasversal](Trees/binary_postorder.JPG)"
   ]
  },
  {
   "cell_type": "code",
   "execution_count": 34,
   "metadata": {},
   "outputs": [
    {
     "name": "stdout",
     "output_type": "stream",
     "text": [
      "Postorder trasversal: [5, 13, 10, 30, 45, 35, 25, 75, 50]\n"
     ]
    }
   ],
   "source": [
    "def postorder(root, nodes = []):\n",
    "    if root.left:\n",
    "        postorder(root.left, nodes)\n",
    "    if root.right:\n",
    "        postorder(root.right, nodes)\n",
    "    nodes.append(root.value)\n",
    "    return nodes\n",
    "\n",
    "print(f\"Postorder trasversal: {postorder(tree, nodes = [])}\")\n"
   ]
  },
  {
   "cell_type": "markdown",
   "metadata": {},
   "source": [
    "# Get information about the tree\n",
    "\n",
    "## Height of the tree\n",
    "The height of the tree is the maximum level of depth of a tree"
   ]
  },
  {
   "cell_type": "code",
   "execution_count": 40,
   "metadata": {},
   "outputs": [
    {
     "name": "stdout",
     "output_type": "stream",
     "text": [
      "The sample tree is 4 levels deep\n"
     ]
    }
   ],
   "source": [
    "def get_height(root):\n",
    "    # If empty tree\n",
    "    if not root:\n",
    "        return  0\n",
    "    else:\n",
    "        return max(get_height(root.left), get_height(root.right)) + 1\n",
    "\n",
    "\n",
    "print(f\"The sample tree is {get_height(tree)} levels deep\")\n"
   ]
  },
  {
   "cell_type": "markdown",
   "metadata": {},
   "source": [
    "# Level width\n",
    "Get the number of nodes at a certain level"
   ]
  },
  {
   "cell_type": "code",
   "execution_count": 51,
   "metadata": {},
   "outputs": [
    {
     "name": "stdout",
     "output_type": "stream",
     "text": [
      "The sample tree has 1 node(s) at level 1 \n",
      "The sample tree has 2 node(s) at level 2 \n",
      "The sample tree has 2 node(s) at level 3 \n",
      "The sample tree has 4 node(s) at level 4 \n"
     ]
    }
   ],
   "source": [
    "def level_width(root, level):\n",
    "    # if there is nothing but the root node\n",
    "    if root is None:\n",
    "        return 0\n",
    "    # we're at the root, so level is one\n",
    "    if level == 1:\n",
    "        return 1\n",
    "    else:\n",
    "        return (level_width(root.left, level - 1) + level_width(root.right, level - 1))\n",
    "\n",
    "for level in range(get_height(tree)):\n",
    "    print(\n",
    "        f\"The sample tree has {level_width(tree, level + 1)} node(s) at level {level +1} \")\n",
    "\n"
   ]
  }
 ],
 "metadata": {
  "kernelspec": {
   "display_name": "Python 3.8.12 ('base')",
   "language": "python",
   "name": "python3"
  },
  "language_info": {
   "codemirror_mode": {
    "name": "ipython",
    "version": 3
   },
   "file_extension": ".py",
   "mimetype": "text/x-python",
   "name": "python",
   "nbconvert_exporter": "python",
   "pygments_lexer": "ipython3",
   "version": "3.8.12"
  },
  "orig_nbformat": 4,
  "vscode": {
   "interpreter": {
    "hash": "4b871194bc19dac7c41cee6b8d23ffeafa9d012e1ad7aecad95db98b43f9f56c"
   }
  }
 },
 "nbformat": 4,
 "nbformat_minor": 2
}
