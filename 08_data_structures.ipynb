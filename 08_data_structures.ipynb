{
 "cells": [
  {
   "cell_type": "markdown",
   "metadata": {},
   "source": [
    "# Data Structures\n",
    "\n",
    "\n",
    "## Stack\n",
    "Stack are Last-In First-Out (LIFO) data structures."
   ]
  },
  {
   "cell_type": "code",
   "execution_count": 5,
   "metadata": {},
   "outputs": [
    {
     "name": "stdout",
     "output_type": "stream",
     "text": [
      "Initialized stack: [1, 5, 3]\n",
      "Added values to stack: [1, 5, 3, 12, 11]\n",
      "Last value is 11\n",
      "Removing the last value with pop: 11\n",
      "[1, 5, 3, 12]\n"
     ]
    }
   ],
   "source": [
    "class Stack:\n",
    "    def __init__(self, items = None):\n",
    "        if not items:\n",
    "            self.items = []\n",
    "        else:\n",
    "            self.items = items\n",
    "    \n",
    "    def push(self, item):\n",
    "        self.items.append(item)\n",
    "\n",
    "    def pop(self):\n",
    "        return self.items.pop()\n",
    "\n",
    "    def size(self):\n",
    "        return len(self.items)\n",
    "    \n",
    "    def is_empty(self):\n",
    "        return not self.items\n",
    "\n",
    "    def peek(self):\n",
    "        return self.items[-1]\n",
    "\n",
    "    def __str__(self):\n",
    "        return str(self.items)\n",
    "\n",
    "\n",
    "s = Stack([1, 5, 3])\n",
    "print(f\"Initialized stack: {s}\")\n",
    "s.push(12)\n",
    "s.push(11)\n",
    "print(f\"Added values to stack: {s}\")\n",
    "print(f\"Last value is {s.peek()}\")\n",
    "print(f\"Removing the last value with pop: {s.pop()}\")\n",
    "print(s)"
   ]
  },
  {
   "cell_type": "markdown",
   "metadata": {},
   "source": [
    "## Queue\n",
    "\n"
   ]
  }
 ],
 "metadata": {
  "kernelspec": {
   "display_name": "Python 3.9.12 ('base')",
   "language": "python",
   "name": "python3"
  },
  "language_info": {
   "codemirror_mode": {
    "name": "ipython",
    "version": 3
   },
   "file_extension": ".py",
   "mimetype": "text/x-python",
   "name": "python",
   "nbconvert_exporter": "python",
   "pygments_lexer": "ipython3",
   "version": "3.9.12"
  },
  "orig_nbformat": 4,
  "vscode": {
   "interpreter": {
    "hash": "8bf32a8df28c9a723f371e694d7400cec10cdd60e20f7cbe5a62ff7f77fe944c"
   }
  }
 },
 "nbformat": 4,
 "nbformat_minor": 2
}
