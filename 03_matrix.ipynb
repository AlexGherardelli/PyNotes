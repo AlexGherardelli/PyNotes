{
 "cells": [
  {
   "cell_type": "markdown",
   "metadata": {},
   "source": [
    "# Matrices\n",
    "\n",
    "Matrices are 2D arrays where all rows have identical numbers of items.\n",
    "\n",
    "**n x n** : 3x3 matrix\n",
    "**n x m**: 3x4 matrix\n"
   ]
  },
  {
   "cell_type": "code",
   "execution_count": 16,
   "metadata": {},
   "outputs": [
    {
     "name": "stdout",
     "output_type": "stream",
     "text": [
      "matrix: [[0, 0, 0], [0, 0, 0], [0, 0, 0]]\n",
      "not_a_matrix: [[0, 0], [0, 0, 0], [0]]\n"
     ]
    }
   ],
   "source": [
    "not_a_matrix = [[0, 0], [0, 0, 0][0]]\n",
    "print(f\"matrix: {[[0, 0, 0],[0, 0, 0],[0, 0, 0]]}\")\n",
    "print(f\"not_a_matrix: { [[0, 0], [0, 0, 0], [0]]}\")\n",
    "\n",
    "sample_matrix = [[3, 6, 12],[15, 21, 4],[11, 9, 5]]"
   ]
  },
  {
   "cell_type": "markdown",
   "metadata": {},
   "source": [
    "## Create matrices"
   ]
  },
  {
   "cell_type": "code",
   "execution_count": 13,
   "metadata": {},
   "outputs": [
    {
     "name": "stdout",
     "output_type": "stream",
     "text": [
      "[[], [], [], []]\n"
     ]
    }
   ],
   "source": [
    "def empty_matrix(n):\n",
    "    return [[] for j in range(n)]\n",
    "\n",
    "print(nxn_empty_matrix(4))"
   ]
  },
  {
   "cell_type": "code",
   "execution_count": 14,
   "metadata": {},
   "outputs": [
    {
     "name": "stdout",
     "output_type": "stream",
     "text": [
      "[[0, 0, 0], [0, 0, 0], [0, 0, 0], [0, 0, 0]]\n"
     ]
    }
   ],
   "source": [
    "def create_matrix(n, m):\n",
    "    return [[0 for i in range(n)] for j in range(m)]\n",
    "\n",
    "print(create_matrix(3, 4))"
   ]
  },
  {
   "cell_type": "markdown",
   "metadata": {},
   "source": [
    "## Order matrice\n",
    "\n",
    "### By row"
   ]
  },
  {
   "cell_type": "code",
   "execution_count": 18,
   "metadata": {},
   "outputs": [
    {
     "name": "stdout",
     "output_type": "stream",
     "text": [
      "Sample matrix: [[3, 6, 12], [15, 21, 4], [11, 9, 5]]\n",
      "\n",
      "Order by row: [[3, 4, 5], [6, 9, 11], [12, 15, 21]]\n"
     ]
    }
   ],
   "source": [
    "def sort_matrix_by_row(matrix):\n",
    "    # get width of matrix (size of its rows)\n",
    "    width = len(matrix[0])\n",
    "    # flatten a matrix, using a temporary matrix\n",
    "    m = []\n",
    "    for i, row in enumerate(matrix):\n",
    "        m.extend(row)\n",
    "    # and sort it \n",
    "    m.sort()\n",
    "\n",
    "    # recreate the matrix by looping into the flattened list\n",
    "    # n elements at a time\n",
    "    result = []\n",
    "    for i in range(0, len(m), width):\n",
    "        result.append(m[i:i+width])\n",
    "\n",
    "    return result\n",
    "\n",
    "print(f\"Sample matrix: {sample_matrix}\\n\")\n",
    "print(f\"Order by row: {sort_matrix_by_row(sample_matrix)}\")"
   ]
  },
  {
   "cell_type": "code",
   "execution_count": 27,
   "metadata": {},
   "outputs": [
    {
     "name": "stdout",
     "output_type": "stream",
     "text": [
      "Sample matrix: [[3, 6, 12], [15, 21, 4], [11, 9, 5]]\n",
      "\n",
      "Order by col: [[3, 6, 4], [11, 9, 5], [15, 21, 12]]\n"
     ]
    }
   ],
   "source": [
    "def sort_matrix_by_col(matrix):\n",
    "    result = [[] for _ in range(len(matrix))]\n",
    "\n",
    "    # going through the rows\n",
    "    for r in range(len(matrix[0])):\n",
    "        # create a temporary storage per column \n",
    "        column = []\n",
    "        # going through the columns\n",
    "        for c, col in enumerate(matrix):\n",
    "            # add to the column list a list with columns and rows inverted\n",
    "            column.append(matrix[c][r])\n",
    "        # and sort it in-place\n",
    "        column.sort()\n",
    "        # recreate the matrix by adding the sorted matrix\n",
    "        for i, _ in enumerate(result):\n",
    "            result[i].append(column[i])\n",
    "    # and return the result\n",
    "    return result\n",
    "\n",
    "\n",
    "print(f\"Sample matrix: {sample_matrix}\\n\")\n",
    "print(f\"Order by col: {sort_matrix_by_col(sample_matrix)}\")\n",
    "\n"
   ]
  },
  {
   "cell_type": "markdown",
   "metadata": {},
   "source": [
    "## Breath First Search (BFS)\n",
    "BSF is an algorithm used to answer the question **\"What are the minimum number of moves to solve a puzzle?\"**"
   ]
  },
  {
   "cell_type": "code",
   "execution_count": 28,
   "metadata": {},
   "outputs": [],
   "source": [
    "def bfs(matrix):\n",
    "    pass"
   ]
  },
  {
   "cell_type": "markdown",
   "metadata": {},
   "source": [
    "## Depth-First Search (DFS)\n",
    "Depth-Search First: DSF is an algorithm used to answer the question **\"What is the shortest path to solve a puzzle?\"**"
   ]
  },
  {
   "cell_type": "code",
   "execution_count": null,
   "metadata": {},
   "outputs": [],
   "source": [
    "def dfs(matrix):\n",
    "    pass"
   ]
  }
 ],
 "metadata": {
  "kernelspec": {
   "display_name": "Python 3.9.12 ('base')",
   "language": "python",
   "name": "python3"
  },
  "language_info": {
   "codemirror_mode": {
    "name": "ipython",
    "version": 3
   },
   "file_extension": ".py",
   "mimetype": "text/x-python",
   "name": "python",
   "nbconvert_exporter": "python",
   "pygments_lexer": "ipython3",
   "version": "3.9.12"
  },
  "orig_nbformat": 4,
  "vscode": {
   "interpreter": {
    "hash": "8bf32a8df28c9a723f371e694d7400cec10cdd60e20f7cbe5a62ff7f77fe944c"
   }
  }
 },
 "nbformat": 4,
 "nbformat_minor": 2
}
