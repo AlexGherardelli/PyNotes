{
 "cells": [
  {
   "cell_type": "markdown",
   "metadata": {},
   "source": [
    "# Matrices\n",
    "\n",
    "Matrices are 2D arrays where all rows have identical numbers of items.\n",
    "\n",
    "**n x n** : 3x3 matrix\n",
    "**n x m**: 3x4 matrix\n"
   ]
  },
  {
   "cell_type": "code",
   "execution_count": 16,
   "metadata": {},
   "outputs": [
    {
     "name": "stdout",
     "output_type": "stream",
     "text": [
      "matrix: [[0, 0, 0], [0, 0, 0], [0, 0, 0]]\n",
      "not_a_matrix: [[0, 0], [0, 0, 0], [0]]\n"
     ]
    }
   ],
   "source": [
    "not_a_matrix = [[0, 0], [0, 0, 0][0]]\n",
    "print(f\"matrix: {[[0, 0, 0],[0, 0, 0],[0, 0, 0]]}\")\n",
    "print(f\"not_a_matrix: { [[0, 0], [0, 0, 0], [0]]}\")\n",
    "\n",
    "sample_matrix = [[3, 6, 12],[15, 21, 4],[11, 9, 5]]"
   ]
  },
  {
   "cell_type": "markdown",
   "metadata": {},
   "source": [
    "## Create matrices"
   ]
  },
  {
   "cell_type": "code",
   "execution_count": 13,
   "metadata": {},
   "outputs": [
    {
     "name": "stdout",
     "output_type": "stream",
     "text": [
      "[[], [], [], []]\n"
     ]
    }
   ],
   "source": [
    "def empty_matrix(n):\n",
    "    return [[] for j in range(n)]\n",
    "\n",
    "print(nxn_empty_matrix(4))"
   ]
  },
  {
   "cell_type": "code",
   "execution_count": 14,
   "metadata": {},
   "outputs": [
    {
     "name": "stdout",
     "output_type": "stream",
     "text": [
      "[[0, 0, 0], [0, 0, 0], [0, 0, 0], [0, 0, 0]]\n"
     ]
    }
   ],
   "source": [
    "def create_matrix(n, m):\n",
    "    return [[0 for i in range(n)] for j in range(m)]\n",
    "\n",
    "print(create_matrix(3, 4))"
   ]
  },
  {
   "cell_type": "markdown",
   "metadata": {},
   "source": [
    "## Trasversing matrix\n",
    "\n",
    "### By Row"
   ]
  },
  {
   "cell_type": "code",
   "execution_count": 13,
   "metadata": {},
   "outputs": [
    {
     "name": "stdout",
     "output_type": "stream",
     "text": [
      "Trasversing by row\n",
      "1 2 3 4 5 6 7 8 9 \n",
      "-------------\n",
      "\n",
      "Trasversing by Column\n",
      "1 4 7 2 5 8 3 6 9 \n",
      "-------------\n",
      "\n",
      "Alternative mode for trasversing\n",
      "By Row: [1, 2, 3, 4, 5, 6, 7, 8, 9]\n",
      "By Col: [1, 4, 7, 2, 5, 8, 3, 6, 9]\n"
     ]
    }
   ],
   "source": [
    "matrix = [[1, 2, 3], [4, 5, 6], [7, 8, 9]]\n",
    "\n",
    "print(\"Trasversing by row\")\n",
    "for i, row in enumerate(matrix):\n",
    "    for j, col in enumerate(matrix):\n",
    "        print(matrix[i][j], end=\" \")\n",
    "print(\"\\n-------------\\n\")\n",
    "print(\"Trasversing by Column\")\n",
    "for i, row in enumerate(matrix):\n",
    "    for j, col in enumerate(matrix):\n",
    "        print(matrix[j][i], end = \" \")\n",
    "print(\"\\n-------------\\n\")\n",
    "\n",
    "print(\"Alternative mode for trasversing\")\n",
    "height = len(matrix)\n",
    "width = len(matrix[0])\n",
    "\n",
    "by_row = [matrix[i][j] for i in range(height) for j in range(width)]\n",
    "by_col = [matrix[j][i] for i in range(height) for j in range(width)]\n",
    "\n",
    "print(f\"By Row: {by_row}\")\n",
    "print(f\"By Col: {by_col}\")\n"
   ]
  },
  {
   "cell_type": "code",
   "execution_count": 25,
   "metadata": {},
   "outputs": [
    {
     "name": "stdout",
     "output_type": "stream",
     "text": [
      "First method: two loops, enumerating first on matrix, then on row\n",
      "(0, 0) | (0, 1) | (0, 2) | (1, 0) | (1, 1) | (1, 2) | (2, 0) | (2, 1) | (2, 2) | \n",
      "----\n",
      "Second method: two loops, enumerating always on matrix\n",
      "(0, 0) | (0, 1) | (0, 2) | (1, 0) | (1, 1) | (1, 2) | (2, 0) | (2, 1) | (2, 2) | "
     ]
    }
   ],
   "source": [
    "matrix = [[1, 2, 3], [4, 5, 6], [7, 8, 9]]\n",
    "\n",
    "print(\"First method: two loops, enumerating first on matrix, then on row\")\n",
    "for i, row in enumerate(matrix):\n",
    "    for j, col in enumerate(row):\n",
    "        print((i, j), end = \" | \")\n",
    "\n",
    "print(\"\\n----\")\n",
    "print(\"Second method: two loops, enumerating always on matrix\")\n",
    "for i, row in enumerate(matrix):\n",
    "    for j, col in enumerate(matrix):\n",
    "        print((i, j), end = \" | \")"
   ]
  },
  {
   "cell_type": "markdown",
   "metadata": {},
   "source": [
    "## Order matrice\n",
    "\n",
    "### By row"
   ]
  },
  {
   "cell_type": "code",
   "execution_count": 18,
   "metadata": {},
   "outputs": [
    {
     "name": "stdout",
     "output_type": "stream",
     "text": [
      "Sample matrix: [[3, 6, 12], [15, 21, 4], [11, 9, 5]]\n",
      "\n",
      "Order by row: [[3, 4, 5], [6, 9, 11], [12, 15, 21]]\n"
     ]
    }
   ],
   "source": [
    "def sort_matrix_by_row(matrix):\n",
    "    # get width of matrix (size of its rows)\n",
    "    width = len(matrix[0])\n",
    "    # flatten a matrix, using a temporary matrix\n",
    "    m = []\n",
    "    for i, row in enumerate(matrix):\n",
    "        m.extend(row)\n",
    "    # and sort it \n",
    "    m.sort()\n",
    "\n",
    "    # recreate the matrix by looping into the flattened list\n",
    "    # n elements at a time\n",
    "    result = []\n",
    "    for i in range(0, len(m), width):\n",
    "        result.append(m[i:i+width])\n",
    "\n",
    "    return result\n",
    "\n",
    "print(f\"Sample matrix: {sample_matrix}\\n\")\n",
    "print(f\"Order by row: {sort_matrix_by_row(sample_matrix)}\")"
   ]
  },
  {
   "cell_type": "code",
   "execution_count": 27,
   "metadata": {},
   "outputs": [
    {
     "name": "stdout",
     "output_type": "stream",
     "text": [
      "Sample matrix: [[3, 6, 12], [15, 21, 4], [11, 9, 5]]\n",
      "\n",
      "Order by col: [[3, 6, 4], [11, 9, 5], [15, 21, 12]]\n"
     ]
    }
   ],
   "source": [
    "def sort_matrix_by_col(matrix):\n",
    "    result = [[] for _ in range(len(matrix))]\n",
    "\n",
    "    # going through the rows\n",
    "    for r in range(len(matrix[0])):\n",
    "        # create a temporary storage per column \n",
    "        column = []\n",
    "        # going through the columns\n",
    "        for c, col in enumerate(matrix):\n",
    "            # add to the column list a list with columns and rows inverted\n",
    "            column.append(matrix[c][r])\n",
    "        # and sort it in-place\n",
    "        column.sort()\n",
    "        # recreate the matrix by adding the sorted matrix\n",
    "        for i, _ in enumerate(result):\n",
    "            result[i].append(column[i])\n",
    "    # and return the result\n",
    "    return result\n",
    "\n",
    "\n",
    "print(f\"Sample matrix: {sample_matrix}\\n\")\n",
    "print(f\"Order by col: {sort_matrix_by_col(sample_matrix)}\")\n",
    "\n"
   ]
  },
  {
   "cell_type": "markdown",
   "metadata": {},
   "source": [
    "## Breath First Search (BFS)\n",
    "BSF is an algorithm used to answer the question **\"What are the minimum number of moves to solve a puzzle?\"**\n",
    "\n",
    "Depth-Search First: DSF is an algorithm used to answer the question **\"What is the shortest path to solve a puzzle?\"**"
   ]
  },
  {
   "cell_type": "code",
   "execution_count": 28,
   "metadata": {},
   "outputs": [],
   "source": [
    "def bfs(matrix):\n",
    "    pass"
   ]
  },
  {
   "cell_type": "markdown",
   "metadata": {},
   "source": [
    "## Depth-First Search (DFS)\n",
    "\n",
    "\n",
    "It can be described as an \"aggressive algorithm\", in the sense that it will continue down a particular path until either it finds its goal or reaches a dead end, at which point it backtracks to the last viable position and tries a different path from there.\n",
    "DFS is better in situations where the **goal is to discover a path to a given destination as soon as possible**. It may not provide the shortest path though.\n",
    "\n",
    "**Possible applications of DFS**:\n",
    "- Optimization for criteria (cost, speed, safety, etc)\n",
    "- Pathfinding\n",
    "- Scheduling\n",
    "- Lots of simulations\n",
    " \n",
    "**Pseudocode**\n",
    "- Initialize a stack with the start position ```stack = start_position```\n",
    "- Initialize a dictionary to store the predecessors. The start position doesn't have any, so it will be none ```prev = {\"start_position\" : None}```\n",
    "  \n",
    "1. Pop the stack\n",
    "2. Is this the goal? If yes, we're done!\n",
    "3. Otherwise, push undiscovered neighbors onto the stack and add them to the predecessor dictionary\n",
    "4. Repeat while there are items on the stack"
   ]
  },
  {
   "cell_type": "code",
   "execution_count": 28,
   "metadata": {},
   "outputs": [],
   "source": [
    "# deque works like a stack, if using only append() and pop()\n",
    "from collections import deque\n",
    "\n",
    "def dfs(matrix, goal):\n",
    "    # initialize\n",
    "    start = (0, 0)\n",
    "    stack = deque(start)\n",
    "    pred = {start:None}\n",
    "\n",
    "    directions = [\n",
    "        (0, 1), # right\n",
    "        (1, 0), # down\n",
    "        (0, -1), # left\n",
    "        (-1, 0) # up\n",
    "    ]\n",
    "\n",
    "    while stack:\n",
    "        curr = stack.pop()\n",
    "        if curr == goal:\n",
    "            return curr\n",
    "        for direction in directions:\n",
    "            dx, dy = direction[0], direction[1]\n",
    "            neighbors = (curr[0] + dx, curr[1], dy)\n",
    "            pass"
   ]
  },
  {
   "cell_type": "code",
   "execution_count": null,
   "metadata": {},
   "outputs": [],
   "source": []
  }
 ],
 "metadata": {
  "kernelspec": {
   "display_name": "Python 3.9.12 ('base')",
   "language": "python",
   "name": "python3"
  },
  "language_info": {
   "codemirror_mode": {
    "name": "ipython",
    "version": 3
   },
   "file_extension": ".py",
   "mimetype": "text/x-python",
   "name": "python",
   "nbconvert_exporter": "python",
   "pygments_lexer": "ipython3",
   "version": "3.9.12"
  },
  "orig_nbformat": 4,
  "vscode": {
   "interpreter": {
    "hash": "8bf32a8df28c9a723f371e694d7400cec10cdd60e20f7cbe5a62ff7f77fe944c"
   }
  }
 },
 "nbformat": 4,
 "nbformat_minor": 2
}
