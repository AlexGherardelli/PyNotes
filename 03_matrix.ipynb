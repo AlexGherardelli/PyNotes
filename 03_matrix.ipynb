{
 "cells": [
  {
   "cell_type": "markdown",
   "metadata": {},
   "source": [
    "# Matrices\n",
    "\n",
    "Matrices are 2D arrays where all rows have identical numbers of items.\n",
    "\n",
    "**n x n** : 3x3 matrix\n",
    "**n x m**: 3x4 matrix\n"
   ]
  },
  {
   "cell_type": "code",
   "execution_count": 16,
   "metadata": {},
   "outputs": [
    {
     "name": "stdout",
     "output_type": "stream",
     "text": [
      "matrix: [[0, 0, 0], [0, 0, 0], [0, 0, 0]]\n",
      "not_a_matrix: [[0, 0], [0, 0, 0], [0]]\n"
     ]
    }
   ],
   "source": [
    "not_a_matrix = [[0, 0], [0, 0, 0][0]]\n",
    "print(f\"matrix: {[[0, 0, 0],[0, 0, 0],[0, 0, 0]]}\")\n",
    "print(f\"not_a_matrix: { [[0, 0], [0, 0, 0], [0]]}\")\n",
    "\n",
    "sample_matrix = [[3, 6, 12],[15, 21, 4],[11, 9, 5]]"
   ]
  },
  {
   "cell_type": "markdown",
   "metadata": {},
   "source": [
    "## Create matrices"
   ]
  },
  {
   "cell_type": "code",
   "execution_count": 13,
   "metadata": {},
   "outputs": [
    {
     "name": "stdout",
     "output_type": "stream",
     "text": [
      "[[], [], [], []]\n"
     ]
    }
   ],
   "source": [
    "def empty_matrix(n):\n",
    "    return [[] for j in range(n)]\n",
    "\n",
    "print(nxn_empty_matrix(4))"
   ]
  },
  {
   "cell_type": "code",
   "execution_count": 14,
   "metadata": {},
   "outputs": [
    {
     "name": "stdout",
     "output_type": "stream",
     "text": [
      "[[0, 0, 0], [0, 0, 0], [0, 0, 0], [0, 0, 0]]\n"
     ]
    }
   ],
   "source": [
    "def create_matrix(n, m):\n",
    "    return [[0 for i in range(n)] for j in range(m)]\n",
    "\n",
    "print(create_matrix(3, 4))"
   ]
  },
  {
   "cell_type": "markdown",
   "metadata": {},
   "source": [
    "## Trasversing matrix\n",
    "\n",
    "### Using Enumerate"
   ]
  },
  {
   "cell_type": "code",
   "execution_count": 7,
   "metadata": {},
   "outputs": [
    {
     "name": "stdout",
     "output_type": "stream",
     "text": [
      "METHOD 1: USING ENUMERATE\n",
      "Trasversing by Row\n",
      "1 2 3 4 5 6 7 8 9 10 11 12 \n",
      "-------------\n",
      "\n",
      "Trasversing by Column\n",
      "1 5 9 2 6 10 3 7 11 "
     ]
    }
   ],
   "source": [
    "matrix = [\n",
    "            [1, 2, 3, 4], \n",
    "            [5, 6, 7, 8], \n",
    "            [9, 10, 11, 12]\n",
    "        ]\n",
    "\n",
    "print(\"METHOD 1: USING ENUMERATE\")\n",
    "print(\"Trasversing by Row\")\n",
    "for i, row in enumerate(matrix):\n",
    "    for j, col in enumerate(row):\n",
    "        print(matrix[i][j], end=\" \")\n",
    "\n",
    "print(\"\\n-------------\\n\")\n",
    "\n",
    "print(\"Trasversing by Column: MISSING ONE COLUMN\")\n",
    "for i, row in enumerate(matrix):\n",
    "    for j, col in enumerate(matrix):\n",
    "        print(matrix[j][i], end = \" \")\n",
    "        \n",
    "\n"
   ]
  },
  {
   "cell_type": "code",
   "execution_count": 22,
   "metadata": {},
   "outputs": [
    {
     "name": "stdout",
     "output_type": "stream",
     "text": [
      "METHOD 2: USING SIZE OF MATRIX\n",
      "size of matrix 3 x 4\n",
      "\n",
      "Trasversing by Row\n",
      "1 2 3 4  \n",
      "5 6 7 8  \n",
      "9 10 11 12  \n",
      "\n",
      "Trasversing by Column\n",
      "1 5 9  \n",
      "2 6 10  \n",
      "3 7 11  \n",
      "4 8 12  \n"
     ]
    }
   ],
   "source": [
    "print(\"METHOD 2: USING SIZE OF MATRIX\")\n",
    "matrix = [\n",
    "            [1, 2, 3, 4], \n",
    "            [5, 6, 7, 8], \n",
    "            [9, 10, 11, 12]\n",
    "        ]\n",
    "\n",
    "rows = len(matrix)\n",
    "columns = len(matrix[0])\n",
    "print(f\"size of matrix {rows} x {columns}\")\n",
    "\n",
    "# by_row = [matrix[i][j] for i in range(height) for j in range(width)]\n",
    "# by_col = [matrix[j][i] for i in range(height) for j in range(width)]\n",
    "\n",
    "print(\"\\nTrasversing by Row / Line by Line\")\n",
    "for i in range(rows):\n",
    "    for j in range(columns):\n",
    "        print(matrix[i][j], end = \" \")\n",
    "    print(\" \")\n",
    "\n",
    "print(\"\\nTrasversing by Column\")\n",
    "for j in range(columns):\n",
    "    for i in range(rows):\n",
    "        print(matrix[i][j], end = \" \")\n",
    "    print(\" \")"
   ]
  },
  {
   "cell_type": "code",
   "execution_count": 33,
   "metadata": {},
   "outputs": [
    {
     "name": "stdout",
     "output_type": "stream",
     "text": [
      "First method: two loops, enumerating first on matrix, then on row\n",
      "(0, 0) | (0, 1) | (0, 2) | (0, 3) | (1, 0) | (1, 1) | (1, 2) | (1, 3) | (2, 0) | (2, 1) | (2, 2) | (2, 3) | \n",
      "----\n",
      "Second method: two loops, enumerating always on matrix... which doesn't work for n x m!!!\n",
      "(0, 0) | (0, 1) | (0, 2) | (1, 0) | (1, 1) | (1, 2) | (2, 0) | (2, 1) | (2, 2) | \n",
      "----\n",
      "Third method method: iterating over height/rows, then width/columns. Always work.\n",
      "(0, 0) | (0, 1) | (0, 2) | (0, 3) | (1, 0) | (1, 1) | (1, 2) | (1, 3) | (2, 0) | (2, 1) | (2, 2) | (2, 3) | \n",
      "\n",
      "Third method also works to iterate by column.\n",
      "(0, 0) | (0, 1) | (0, 2) | (1, 0) | (1, 1) | (1, 2) | (2, 0) | (2, 1) | (2, 2) | (3, 0) | (3, 1) | (3, 2) | "
     ]
    }
   ],
   "source": [
    "matrix = [\n",
    "            [1, 2, 3, 4], \n",
    "            [5, 6, 7, 8], \n",
    "            [9, 10, 11, 12]\n",
    "        ]\n",
    "\n",
    "print(\"First method: two loops, enumerating first on matrix, then on row\")\n",
    "for i, row in enumerate(matrix):\n",
    "    for j, col in enumerate(row):\n",
    "        print((i, j), end = \" | \")\n",
    "\n",
    "print(\"\\n----\")\n",
    "print(\"Second method: two loops, enumerating always on matrix... which doesn't work for n x m!!!\")\n",
    "for i, row in enumerate(matrix):\n",
    "    for j, col in enumerate(matrix):\n",
    "        print((i, j), end = \" | \")\n",
    "\n",
    "print(\"\\n----\")\n",
    "height, width = len(matrix), len(matrix[0])\n",
    "print(\"Third method method: iterating over height/rows, then width/columns. Always work.\")\n",
    "for i in range(height):\n",
    "    for j in range(width):\n",
    "        print((i, j), end = \" | \")\n",
    "\n",
    "print(\"\\n\")\n",
    "print(\"Third method also works to iterate by column.\")\n",
    "for i in range(width):\n",
    "    for j in range(height):\n",
    "        print((i, j), end = \" | \")"
   ]
  },
  {
   "cell_type": "markdown",
   "metadata": {},
   "source": [
    "## Order matrice\n",
    "\n",
    "### By row"
   ]
  },
  {
   "cell_type": "code",
   "execution_count": 38,
   "metadata": {},
   "outputs": [
    {
     "name": "stdout",
     "output_type": "stream",
     "text": [
      "Sample matrix: [[1, 2, 3, 4], [5, 6, 7, 8], [9, 10, 11, 12]]\n",
      "\n",
      "Order by row: [[1, 2, 3, 4], [5, 6, 7, 8], [9, 10, 11, 12]]\n"
     ]
    }
   ],
   "source": [
    "sample_matrix = [\n",
    "            [1, 2, 3, 4], \n",
    "            [5, 6, 7, 8], \n",
    "            [9, 10, 11, 12]\n",
    "        ]\n",
    "\n",
    "def sort_matrix_by_row(matrix):\n",
    "    # get width of matrix (size of its rows)\n",
    "    width = len(matrix[0])\n",
    "    # flatten a matrix, using a temporary matrix\n",
    "    m = []\n",
    "    for i, row in enumerate(matrix):\n",
    "        m.extend(row)\n",
    "    # and sort it \n",
    "    m.sort()\n",
    "\n",
    "    # recreate the matrix by looping into the flattened list\n",
    "    # n elements at a time\n",
    "    result = []\n",
    "    for i in range(0, len(m), width):\n",
    "        result.append(m[i:i+width])\n",
    "\n",
    "    return result\n",
    "\n",
    "print(f\"Sample matrix: {sample_matrix}\\n\")\n",
    "print(f\"Order by row: {sort_matrix_by_row(sample_matrix)}\")"
   ]
  },
  {
   "cell_type": "code",
   "execution_count": 44,
   "metadata": {},
   "outputs": [
    {
     "name": "stdout",
     "output_type": "stream",
     "text": [
      "Sample matrix: [[1, 6, 12, 4], [3, 5, 6, 9], [2, 8, 3, 10]]\n",
      "\n",
      "Order by col: [[1, 5, 3, 4], [2, 6, 6, 9], [3, 8, 12, 10]]\n",
      "\n",
      "Sorted by Row and Col: [[1, 2, 3, 3], [4, 5, 6, 6], [8, 9, 10, 12]]\n"
     ]
    }
   ],
   "source": [
    "sample_matrix = [\n",
    "    [1, 6, 12, 4],\n",
    "    [3, 5, 6, 9],\n",
    "    [2, 8, 3, 10]\n",
    "]\n",
    "def sort_matrix_by_col(matrix):\n",
    "    result = [[] for _ in range(len(matrix))]\n",
    "\n",
    "    width = len(matrix[0])\n",
    "    # going through the rows\n",
    "    for r in range(width):\n",
    "        # create a temporary storage per column \n",
    "        column = []\n",
    "        # going through the columns\n",
    "        for c, col in enumerate(matrix):\n",
    "            # add to the column list a list with columns and rows inverted\n",
    "            column.append(matrix[c][r])\n",
    "        # and sort it in-place\n",
    "        column.sort()\n",
    "        # recreate the matrix by adding the sorted matrix\n",
    "        for i, _ in enumerate(result):\n",
    "            result[i].append(column[i])\n",
    "    # and return the result\n",
    "    return result\n",
    "\n",
    "\n",
    "print(f\"Sample matrix: {sample_matrix}\\n\")\n",
    "print(f\"Order by col: {sort_matrix_by_col(sample_matrix)}\\n\")\n",
    "\n",
    "print(f\"Sorted by Row and Col: {sort_matrix_by_col(sort_matrix_by_row(sample_matrix))}\")"
   ]
  },
  {
   "cell_type": "markdown",
   "metadata": {},
   "source": [
    "## Breath First Search (BFS)\n",
    "BSF is an algorithm used to answer the question **\"What are the minimum number of moves to solve a puzzle?\"**\n",
    "\n",
    "Depth-Search First: DSF is an algorithm used to answer the question **\"What is the shortest path to solve a puzzle?\"**"
   ]
  },
  {
   "cell_type": "code",
   "execution_count": 28,
   "metadata": {},
   "outputs": [],
   "source": [
    "def bfs(matrix):\n",
    "    pass"
   ]
  },
  {
   "cell_type": "markdown",
   "metadata": {},
   "source": [
    "## Depth-First Search (DFS)\n",
    "\n",
    "\n",
    "It can be described as an \"aggressive algorithm\", in the sense that it will continue down a particular path until either it finds its goal or reaches a dead end, at which point it backtracks to the last viable position and tries a different path from there.\n",
    "DFS is better in situations where the **goal is to discover a path to a given destination as soon as possible**. It may not provide the shortest path though.\n",
    "\n",
    "**Possible applications of DFS**:\n",
    "- Optimization for criteria (cost, speed, safety, etc)\n",
    "- Pathfinding\n",
    "- Scheduling\n",
    "- Lots of simulations\n",
    " \n",
    "**Pseudocode**\n",
    "- Initialize a stack with the start position ```stack = start_position```\n",
    "- Initialize a dictionary to store the predecessors. The start position doesn't have any, so it will be none ```prev = {\"start_position\" : None}```\n",
    "  \n",
    "1. Pop the stack\n",
    "2. Is this the goal? If yes, we're done!\n",
    "3. Otherwise, push undiscovered neighbors onto the stack and add them to the predecessor dictionary\n",
    "4. Repeat while there are items on the stack"
   ]
  },
  {
   "cell_type": "code",
   "execution_count": 28,
   "metadata": {},
   "outputs": [],
   "source": [
    "# deque works like a stack, if using only append() and pop()\n",
    "from collections import deque\n",
    "\n",
    "def dfs(matrix, goal):\n",
    "    # initialize\n",
    "    start = (0, 0)\n",
    "    stack = deque(start)\n",
    "    pred = {start:None}\n",
    "\n",
    "    directions = [\n",
    "        (0, 1), # right\n",
    "        (1, 0), # down\n",
    "        (0, -1), # left\n",
    "        (-1, 0) # up\n",
    "    ]\n",
    "\n",
    "    while stack:\n",
    "        # pop the stack\n",
    "        curr = stack.pop()\n",
    "        # if the goal is reach, return\n",
    "        if curr == goal:\n",
    "            return curr\n",
    "        # otherwise, push undiscovered neighbors on the stack\n",
    "        for direction in directions:\n",
    "            dx, dy = direction[0], direction[1]\n",
    "            # and add them to the predecessor dictionary\n",
    "            neighbors = (curr[0] + dx, curr[1], dy)\n",
    "            pass"
   ]
  },
  {
   "cell_type": "code",
   "execution_count": null,
   "metadata": {},
   "outputs": [],
   "source": []
  }
 ],
 "metadata": {
  "kernelspec": {
   "display_name": "Python 3.8.10 ('uni')",
   "language": "python",
   "name": "python3"
  },
  "language_info": {
   "codemirror_mode": {
    "name": "ipython",
    "version": 3
   },
   "file_extension": ".py",
   "mimetype": "text/x-python",
   "name": "python",
   "nbconvert_exporter": "python",
   "pygments_lexer": "ipython3",
   "version": "3.8.10"
  },
  "vscode": {
   "interpreter": {
    "hash": "546b41e4b5ded73c14c091c0254eef6336db2e6f55324e735260470f348a8851"
   }
  }
 },
 "nbformat": 4,
 "nbformat_minor": 2
}
